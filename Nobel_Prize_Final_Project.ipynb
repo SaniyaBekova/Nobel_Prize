{
    "cells": [
        {
            "cell_type": "markdown",
            "metadata": {},
            "source": [
                "# Introduction:\n",
                "**The Nobel Prizes**, established in 1895 by Alfred Nobel, honor individuals and organizations who have made significant contributions in physics, chemistry, medicine, literature, peace, and economic sciences. This project delves into the global landscape of Nobel Prize winners, focusing on trends and patterns over time.\n",
                "\n",
                "The analysis seeks to answer the following questions:\n",
                "\n",
                "1. Which countries have won the most Nobel Prizes?\n",
                "\n",
                "2. Which countries have the most wins in specific categories?\n",
                "\n",
                "3. What is the distribution of winners by age when they won?\n",
                "\n",
                "4. How has the gender balance among laureates evolved?\n",
                "\n",
                "5. Are there historical patterns in the laureates' distribution?\n",
                "\n"
            ]
        },
        {
            "cell_type": "markdown",
            "metadata": {},
            "source": [
                "# Data collection\n",
                "This data collected from https://www.nobelprize.org/organization/developer-zone-2/, includes information from 1901 to 2024. \n",
                "\n",
                "Additionally, GDP per capita (current US$), Government expenditure on education, total (% of GDP), Research and development expenditure (% of GDP) and total population data from 1960 to 2023 were collected from https://databank.worldbank.org/source/world-development-indicators# for further analysis."
            ]
        },
        {
            "cell_type": "markdown",
            "metadata": {},
            "source": [
                "# Data wrangling/cleaning\n",
                "\n",
                " The GDP and total population data were merged with the Nobel Prize dataset. \n",
                "\n",
                "GDP and population data will be used to predict a country's likelihood of winning a Nobel Prize.\n",
                "\n",
                "Overall, there are 2 different datasets:\n",
                "\n",
                "1 - nobel_prize\n",
                "\n",
                "2 - gdp_and_population_with_nobel_prize (For further analysis)\n",
                "\n",
                "The code for data collection and wrangling can be found in File 1.\n",
                "\n",
                "## Loading the dataset and importing packages"
            ]
        },
        {
            "cell_type": "code",
            "execution_count": 7,
            "metadata": {},
            "outputs": [
                {
                    "data": {
                        "text/html": [
                            "<div>\n",
                            "<style scoped>\n",
                            "    .dataframe tbody tr th:only-of-type {\n",
                            "        vertical-align: middle;\n",
                            "    }\n",
                            "\n",
                            "    .dataframe tbody tr th {\n",
                            "        vertical-align: top;\n",
                            "    }\n",
                            "\n",
                            "    .dataframe thead th {\n",
                            "        text-align: right;\n",
                            "    }\n",
                            "</style>\n",
                            "<table border=\"1\" class=\"dataframe\">\n",
                            "  <thead>\n",
                            "    <tr style=\"text-align: right;\">\n",
                            "      <th></th>\n",
                            "      <th>awardYear</th>\n",
                            "      <th>dateAwarded</th>\n",
                            "      <th>prizeAmount</th>\n",
                            "      <th>prizeAmountAdjusted</th>\n",
                            "      <th>category.en</th>\n",
                            "      <th>categoryFullName.en</th>\n",
                            "      <th>winner_id</th>\n",
                            "      <th>winner_link</th>\n",
                            "      <th>id</th>\n",
                            "      <th>given_name</th>\n",
                            "      <th>family_name</th>\n",
                            "      <th>full_name</th>\n",
                            "      <th>gender</th>\n",
                            "      <th>birth_date</th>\n",
                            "      <th>birth_place_city</th>\n",
                            "      <th>birth_place_country</th>\n",
                            "      <th>city_now</th>\n",
                            "      <th>country_now</th>\n",
                            "      <th>continent</th>\n",
                            "    </tr>\n",
                            "  </thead>\n",
                            "  <tbody>\n",
                            "    <tr>\n",
                            "      <th>0</th>\n",
                            "      <td>1901</td>\n",
                            "      <td>1901-11-14</td>\n",
                            "      <td>150782</td>\n",
                            "      <td>9704878</td>\n",
                            "      <td>Literature</td>\n",
                            "      <td>The Nobel Prize in Literature</td>\n",
                            "      <td>569</td>\n",
                            "      <td>https://api.nobelprize.org/2/laureate/569</td>\n",
                            "      <td>569</td>\n",
                            "      <td>Sully</td>\n",
                            "      <td>Prudhomme</td>\n",
                            "      <td>Sully Prudhomme</td>\n",
                            "      <td>male</td>\n",
                            "      <td>1839-03-16</td>\n",
                            "      <td>Paris</td>\n",
                            "      <td>France</td>\n",
                            "      <td>Paris</td>\n",
                            "      <td>France</td>\n",
                            "      <td>Europe</td>\n",
                            "    </tr>\n",
                            "    <tr>\n",
                            "      <th>1</th>\n",
                            "      <td>1901</td>\n",
                            "      <td>1901-12-10</td>\n",
                            "      <td>150782</td>\n",
                            "      <td>9704878</td>\n",
                            "      <td>Peace</td>\n",
                            "      <td>The Nobel Peace Prize</td>\n",
                            "      <td>462</td>\n",
                            "      <td>https://api.nobelprize.org/2/laureate/462</td>\n",
                            "      <td>462</td>\n",
                            "      <td>Henry</td>\n",
                            "      <td>Dunant</td>\n",
                            "      <td>Jean Henry Dunant</td>\n",
                            "      <td>male</td>\n",
                            "      <td>1828-05-08</td>\n",
                            "      <td>Geneva</td>\n",
                            "      <td>Switzerland</td>\n",
                            "      <td>Geneva</td>\n",
                            "      <td>Switzerland</td>\n",
                            "      <td>Europe</td>\n",
                            "    </tr>\n",
                            "    <tr>\n",
                            "      <th>2</th>\n",
                            "      <td>1901</td>\n",
                            "      <td>1901-12-10</td>\n",
                            "      <td>150782</td>\n",
                            "      <td>9704878</td>\n",
                            "      <td>Peace</td>\n",
                            "      <td>The Nobel Peace Prize</td>\n",
                            "      <td>463</td>\n",
                            "      <td>https://api.nobelprize.org/2/laureate/463</td>\n",
                            "      <td>463</td>\n",
                            "      <td>Frédéric</td>\n",
                            "      <td>Passy</td>\n",
                            "      <td>Frédéric Passy</td>\n",
                            "      <td>male</td>\n",
                            "      <td>1822-05-20</td>\n",
                            "      <td>Paris</td>\n",
                            "      <td>France</td>\n",
                            "      <td>Paris</td>\n",
                            "      <td>France</td>\n",
                            "      <td>Europe</td>\n",
                            "    </tr>\n",
                            "    <tr>\n",
                            "      <th>3</th>\n",
                            "      <td>1901</td>\n",
                            "      <td>1901-11-12</td>\n",
                            "      <td>150782</td>\n",
                            "      <td>9704878</td>\n",
                            "      <td>Physics</td>\n",
                            "      <td>The Nobel Prize in Physics</td>\n",
                            "      <td>1</td>\n",
                            "      <td>https://api.nobelprize.org/2/laureate/1</td>\n",
                            "      <td>1</td>\n",
                            "      <td>Wilhelm Conrad</td>\n",
                            "      <td>Röntgen</td>\n",
                            "      <td>Wilhelm Conrad Röntgen</td>\n",
                            "      <td>male</td>\n",
                            "      <td>1845-03-27</td>\n",
                            "      <td>Lennep</td>\n",
                            "      <td>Prussia</td>\n",
                            "      <td>Remscheid</td>\n",
                            "      <td>Germany</td>\n",
                            "      <td>Europe</td>\n",
                            "    </tr>\n",
                            "    <tr>\n",
                            "      <th>4</th>\n",
                            "      <td>1901</td>\n",
                            "      <td>1901-10-30</td>\n",
                            "      <td>150782</td>\n",
                            "      <td>9704878</td>\n",
                            "      <td>Physiology or Medicine</td>\n",
                            "      <td>The Nobel Prize in Physiology or Medicine</td>\n",
                            "      <td>293</td>\n",
                            "      <td>https://api.nobelprize.org/2/laureate/293</td>\n",
                            "      <td>293</td>\n",
                            "      <td>Emil</td>\n",
                            "      <td>von Behring</td>\n",
                            "      <td>Emil Adolf von Behring</td>\n",
                            "      <td>male</td>\n",
                            "      <td>1854-03-15</td>\n",
                            "      <td>Hansdorf</td>\n",
                            "      <td>Prussia</td>\n",
                            "      <td>Lawice</td>\n",
                            "      <td>Poland</td>\n",
                            "      <td>Europe</td>\n",
                            "    </tr>\n",
                            "  </tbody>\n",
                            "</table>\n",
                            "</div>"
                        ],
                        "text/plain": [
                            "   awardYear dateAwarded  prizeAmount  prizeAmountAdjusted  \\\n",
                            "0       1901  1901-11-14       150782              9704878   \n",
                            "1       1901  1901-12-10       150782              9704878   \n",
                            "2       1901  1901-12-10       150782              9704878   \n",
                            "3       1901  1901-11-12       150782              9704878   \n",
                            "4       1901  1901-10-30       150782              9704878   \n",
                            "\n",
                            "              category.en                        categoryFullName.en  \\\n",
                            "0              Literature              The Nobel Prize in Literature   \n",
                            "1                   Peace                      The Nobel Peace Prize   \n",
                            "2                   Peace                      The Nobel Peace Prize   \n",
                            "3                 Physics                 The Nobel Prize in Physics   \n",
                            "4  Physiology or Medicine  The Nobel Prize in Physiology or Medicine   \n",
                            "\n",
                            "   winner_id                                winner_link   id      given_name  \\\n",
                            "0        569  https://api.nobelprize.org/2/laureate/569  569           Sully   \n",
                            "1        462  https://api.nobelprize.org/2/laureate/462  462           Henry   \n",
                            "2        463  https://api.nobelprize.org/2/laureate/463  463        Frédéric   \n",
                            "3          1    https://api.nobelprize.org/2/laureate/1    1  Wilhelm Conrad   \n",
                            "4        293  https://api.nobelprize.org/2/laureate/293  293            Emil   \n",
                            "\n",
                            "   family_name               full_name gender  birth_date birth_place_city  \\\n",
                            "0    Prudhomme         Sully Prudhomme   male  1839-03-16            Paris   \n",
                            "1       Dunant       Jean Henry Dunant   male  1828-05-08           Geneva   \n",
                            "2        Passy          Frédéric Passy   male  1822-05-20            Paris   \n",
                            "3      Röntgen  Wilhelm Conrad Röntgen   male  1845-03-27           Lennep   \n",
                            "4  von Behring  Emil Adolf von Behring   male  1854-03-15         Hansdorf   \n",
                            "\n",
                            "  birth_place_country   city_now  country_now continent  \n",
                            "0              France      Paris       France    Europe  \n",
                            "1         Switzerland     Geneva  Switzerland    Europe  \n",
                            "2              France      Paris       France    Europe  \n",
                            "3             Prussia  Remscheid      Germany    Europe  \n",
                            "4             Prussia     Lawice       Poland    Europe  "
                        ]
                    },
                    "execution_count": 7,
                    "metadata": {},
                    "output_type": "execute_result"
                }
            ],
            "source": [
                "import pandas as pd\n",
                "import plotly.express as px\n",
                "import matplotlib.pyplot as plt\n",
                "import numpy as np\n",
                "import bar_chart_race as bcr\n",
                "import seaborn as sns\n",
                "from sklearn.model_selection import train_test_split\n",
                "from sklearn.linear_model import LogisticRegression\n",
                "from sklearn.preprocessing import StandardScaler\n",
                "from sklearn.metrics import roc_auc_score, classification_report, roc_curve, confusion_matrix\n",
                "from IPython.display import HTML\n",
                "from sklearn.ensemble import RandomForestClassifier\n",
                "# Load the dataset\n",
                "nobel_df = pd.read_csv(\"nobel_prize.csv\")\n",
                "nobel_df.head()\n"
            ]
        },
        {
            "cell_type": "markdown",
            "metadata": {},
            "source": [
                "The dataset `nobel_prize` contains `1029 observations` and `19 columns`:\n",
                "\n",
                "1. awardYear: The year the Nobel Prize was awarded.\n",
                "\n",
                "2. dateAwarded: The exact date of the award.\n",
                "\n",
                "3. prizeAmount: The monetary value of the prize at the time it was awarded.\n",
                "\n",
                "4. prizeAmountAdjusted: The monetary value of the prize adjusted for inflation.\n",
                "\n",
                "5. category.en: The category of the prize (e.g., Physics, Literature).\n",
                "\n",
                "6. categoryFullName.en: The full name of the prize category (e.g., \"The Nobel Prize in Physics\").\n",
                "\n",
                "7. winner_id: A unique ID for each laureate.\n",
                "\n",
                "8. winner_link: A web link with more details about the laureate.\n",
                "\n",
                "9. id: A unique ID for each laureate\n",
                "\n",
                "10. given_name: The first name of the laureate.\n",
                "\n",
                "11. family_name: The last name of the laureate.\n",
                "\n",
                "12. full_name: The full name of the laureate (first + last name).\n",
                "\n",
                "13. gender: The gender of the laureate.\n",
                "\n",
                "14. birth_date: The birthdate of the laureate.\n",
                "\n",
                "15. birth_place_city: The city where the laureate was born.\n",
                "\n",
                "16. birth_place_country: The country where the laureate was born.\n",
                "\n",
                "17. city_now: The city where the laureate currently lives (if known).\n",
                "\n",
                "18. country_now: The country where the laureate currently lives (if known).\n",
                "\n",
                "19. continent: The continent of the laureate's birthplace.\n",
                "\n"
            ]
        },
        {
            "cell_type": "markdown",
            "metadata": {},
            "source": [
                "# Data visualization"
            ]
        },
        {
            "cell_type": "markdown",
            "metadata": {},
            "source": [
                "## Interactive map of Nobel laureates by their country of birth"
            ]
        },
        {
            "cell_type": "code",
            "execution_count": 8,
            "metadata": {},
            "outputs": [
                {
                    "data": {
                        "application/vnd.plotly.v1+json": {
                            "config": {
                                "plotlyServerURL": "https://plot.ly"
                            },
                            "data": [
                                {
                                    "coloraxis": "coloraxis",
                                    "geo": "geo",
                                    "hovertemplate": "Country=%{location}<br>Number of Laureates=%{z}<extra></extra>",
                                    "locationmode": "country names",
                                    "locations": [
                                        "USA",
                                        "United Kingdom",
                                        "Germany",
                                        "France",
                                        "Sweden",
                                        "Japan",
                                        "Canada",
                                        "Switzerland",
                                        "Russian Empire",
                                        "Italy",
                                        "Russia",
                                        "the Netherlands",
                                        "Austria",
                                        "Norway",
                                        "Prussia",
                                        "Austria-Hungary",
                                        "Denmark",
                                        "Scotland",
                                        "China",
                                        "India",
                                        "Australia",
                                        "Belgium",
                                        "Poland",
                                        "Hungary",
                                        "South Africa",
                                        "Spain",
                                        "USSR",
                                        "Egypt",
                                        "Northern Ireland",
                                        "Ireland",
                                        "British Mandate of Palestine",
                                        "West Germany",
                                        "Austrian Empire",
                                        "Romania",
                                        "Argentina",
                                        "New Zealand",
                                        "Mexico",
                                        "Turkey",
                                        "French Algeria",
                                        "Colombia",
                                        "Liberia",
                                        "Guatemala",
                                        "Schleswig",
                                        "Ottoman Empire",
                                        "East Timor",
                                        "Iran",
                                        "Portugal",
                                        "Korea",
                                        "Chile",
                                        "British India",
                                        "Luxembourg",
                                        "Finland",
                                        "British Protectorate of Palestine",
                                        "Kenya",
                                        "Czechoslovakia",
                                        "Gold Coast",
                                        "Trinidad and Tobago",
                                        "Free City of Danzig",
                                        "Persia",
                                        "Hesse-Kassel",
                                        "Cyprus",
                                        "Peru",
                                        "Morocco",
                                        "Pakistan",
                                        "Ukraine",
                                        "Tunisia",
                                        "Belgian Congo",
                                        "Iraq",
                                        "Ethiopia",
                                        "Philippines",
                                        "Lebanon",
                                        "French protectorate of Tunisia",
                                        "Yemen",
                                        "German-occupied Poland",
                                        "Saint Lucia",
                                        "Burma",
                                        "East Friesland",
                                        "Java, Dutch East Indies",
                                        "Württemberg",
                                        "Bavaria",
                                        "Tuscany",
                                        "Iceland",
                                        "Guadeloupe, France",
                                        "Southern Rhodesia",
                                        "Brazil",
                                        "Bosnia",
                                        "Faroe Islands (Denmark)",
                                        "Vietnam",
                                        "British West Indies",
                                        "Crete",
                                        "Venezuela",
                                        "Bulgaria",
                                        "Lithuania",
                                        "Madagascar",
                                        "Mecklenburg",
                                        "Taiwan",
                                        "Nigeria",
                                        "Costa Rica",
                                        "Tibet",
                                        "South Korea"
                                    ],
                                    "name": "",
                                    "type": "choropleth",
                                    "z": [
                                        303,
                                        95,
                                        80,
                                        58,
                                        30,
                                        28,
                                        21,
                                        19,
                                        19,
                                        18,
                                        18,
                                        18,
                                        16,
                                        13,
                                        13,
                                        13,
                                        12,
                                        11,
                                        11,
                                        10,
                                        10,
                                        9,
                                        9,
                                        9,
                                        9,
                                        7,
                                        7,
                                        6,
                                        5,
                                        5,
                                        5,
                                        5,
                                        4,
                                        4,
                                        4,
                                        3,
                                        3,
                                        3,
                                        2,
                                        2,
                                        2,
                                        2,
                                        2,
                                        2,
                                        2,
                                        2,
                                        2,
                                        2,
                                        2,
                                        2,
                                        2,
                                        2,
                                        1,
                                        1,
                                        1,
                                        1,
                                        1,
                                        1,
                                        1,
                                        1,
                                        1,
                                        1,
                                        1,
                                        1,
                                        1,
                                        1,
                                        1,
                                        1,
                                        1,
                                        1,
                                        1,
                                        1,
                                        1,
                                        1,
                                        1,
                                        1,
                                        1,
                                        1,
                                        1,
                                        1,
                                        1,
                                        1,
                                        1,
                                        1,
                                        1,
                                        1,
                                        1,
                                        1,
                                        1,
                                        1,
                                        1,
                                        1,
                                        1,
                                        1,
                                        1,
                                        1,
                                        1,
                                        1,
                                        1,
                                        1
                                    ]
                                }
                            ],
                            "layout": {
                                "coloraxis": {
                                    "colorbar": {
                                        "title": {
                                            "text": "Number of Laureates"
                                        }
                                    },
                                    "colorscale": [
                                        [
                                            0,
                                            "#0d0887"
                                        ],
                                        [
                                            0.1111111111111111,
                                            "#46039f"
                                        ],
                                        [
                                            0.2222222222222222,
                                            "#7201a8"
                                        ],
                                        [
                                            0.3333333333333333,
                                            "#9c179e"
                                        ],
                                        [
                                            0.4444444444444444,
                                            "#bd3786"
                                        ],
                                        [
                                            0.5555555555555556,
                                            "#d8576b"
                                        ],
                                        [
                                            0.6666666666666666,
                                            "#ed7953"
                                        ],
                                        [
                                            0.7777777777777778,
                                            "#fb9f3a"
                                        ],
                                        [
                                            0.8888888888888888,
                                            "#fdca26"
                                        ],
                                        [
                                            1,
                                            "#f0f921"
                                        ]
                                    ]
                                },
                                "geo": {
                                    "center": {},
                                    "domain": {
                                        "x": [
                                            0,
                                            1
                                        ],
                                        "y": [
                                            0,
                                            1
                                        ]
                                    }
                                },
                                "legend": {
                                    "tracegroupgap": 0
                                },
                                "template": {
                                    "data": {
                                        "bar": [
                                            {
                                                "error_x": {
                                                    "color": "#2a3f5f"
                                                },
                                                "error_y": {
                                                    "color": "#2a3f5f"
                                                },
                                                "marker": {
                                                    "line": {
                                                        "color": "#E5ECF6",
                                                        "width": 0.5
                                                    },
                                                    "pattern": {
                                                        "fillmode": "overlay",
                                                        "size": 10,
                                                        "solidity": 0.2
                                                    }
                                                },
                                                "type": "bar"
                                            }
                                        ],
                                        "barpolar": [
                                            {
                                                "marker": {
                                                    "line": {
                                                        "color": "#E5ECF6",
                                                        "width": 0.5
                                                    },
                                                    "pattern": {
                                                        "fillmode": "overlay",
                                                        "size": 10,
                                                        "solidity": 0.2
                                                    }
                                                },
                                                "type": "barpolar"
                                            }
                                        ],
                                        "carpet": [
                                            {
                                                "aaxis": {
                                                    "endlinecolor": "#2a3f5f",
                                                    "gridcolor": "white",
                                                    "linecolor": "white",
                                                    "minorgridcolor": "white",
                                                    "startlinecolor": "#2a3f5f"
                                                },
                                                "baxis": {
                                                    "endlinecolor": "#2a3f5f",
                                                    "gridcolor": "white",
                                                    "linecolor": "white",
                                                    "minorgridcolor": "white",
                                                    "startlinecolor": "#2a3f5f"
                                                },
                                                "type": "carpet"
                                            }
                                        ],
                                        "choropleth": [
                                            {
                                                "colorbar": {
                                                    "outlinewidth": 0,
                                                    "ticks": ""
                                                },
                                                "type": "choropleth"
                                            }
                                        ],
                                        "contour": [
                                            {
                                                "colorbar": {
                                                    "outlinewidth": 0,
                                                    "ticks": ""
                                                },
                                                "colorscale": [
                                                    [
                                                        0,
                                                        "#0d0887"
                                                    ],
                                                    [
                                                        0.1111111111111111,
                                                        "#46039f"
                                                    ],
                                                    [
                                                        0.2222222222222222,
                                                        "#7201a8"
                                                    ],
                                                    [
                                                        0.3333333333333333,
                                                        "#9c179e"
                                                    ],
                                                    [
                                                        0.4444444444444444,
                                                        "#bd3786"
                                                    ],
                                                    [
                                                        0.5555555555555556,
                                                        "#d8576b"
                                                    ],
                                                    [
                                                        0.6666666666666666,
                                                        "#ed7953"
                                                    ],
                                                    [
                                                        0.7777777777777778,
                                                        "#fb9f3a"
                                                    ],
                                                    [
                                                        0.8888888888888888,
                                                        "#fdca26"
                                                    ],
                                                    [
                                                        1,
                                                        "#f0f921"
                                                    ]
                                                ],
                                                "type": "contour"
                                            }
                                        ],
                                        "contourcarpet": [
                                            {
                                                "colorbar": {
                                                    "outlinewidth": 0,
                                                    "ticks": ""
                                                },
                                                "type": "contourcarpet"
                                            }
                                        ],
                                        "heatmap": [
                                            {
                                                "colorbar": {
                                                    "outlinewidth": 0,
                                                    "ticks": ""
                                                },
                                                "colorscale": [
                                                    [
                                                        0,
                                                        "#0d0887"
                                                    ],
                                                    [
                                                        0.1111111111111111,
                                                        "#46039f"
                                                    ],
                                                    [
                                                        0.2222222222222222,
                                                        "#7201a8"
                                                    ],
                                                    [
                                                        0.3333333333333333,
                                                        "#9c179e"
                                                    ],
                                                    [
                                                        0.4444444444444444,
                                                        "#bd3786"
                                                    ],
                                                    [
                                                        0.5555555555555556,
                                                        "#d8576b"
                                                    ],
                                                    [
                                                        0.6666666666666666,
                                                        "#ed7953"
                                                    ],
                                                    [
                                                        0.7777777777777778,
                                                        "#fb9f3a"
                                                    ],
                                                    [
                                                        0.8888888888888888,
                                                        "#fdca26"
                                                    ],
                                                    [
                                                        1,
                                                        "#f0f921"
                                                    ]
                                                ],
                                                "type": "heatmap"
                                            }
                                        ],
                                        "heatmapgl": [
                                            {
                                                "colorbar": {
                                                    "outlinewidth": 0,
                                                    "ticks": ""
                                                },
                                                "colorscale": [
                                                    [
                                                        0,
                                                        "#0d0887"
                                                    ],
                                                    [
                                                        0.1111111111111111,
                                                        "#46039f"
                                                    ],
                                                    [
                                                        0.2222222222222222,
                                                        "#7201a8"
                                                    ],
                                                    [
                                                        0.3333333333333333,
                                                        "#9c179e"
                                                    ],
                                                    [
                                                        0.4444444444444444,
                                                        "#bd3786"
                                                    ],
                                                    [
                                                        0.5555555555555556,
                                                        "#d8576b"
                                                    ],
                                                    [
                                                        0.6666666666666666,
                                                        "#ed7953"
                                                    ],
                                                    [
                                                        0.7777777777777778,
                                                        "#fb9f3a"
                                                    ],
                                                    [
                                                        0.8888888888888888,
                                                        "#fdca26"
                                                    ],
                                                    [
                                                        1,
                                                        "#f0f921"
                                                    ]
                                                ],
                                                "type": "heatmapgl"
                                            }
                                        ],
                                        "histogram": [
                                            {
                                                "marker": {
                                                    "pattern": {
                                                        "fillmode": "overlay",
                                                        "size": 10,
                                                        "solidity": 0.2
                                                    }
                                                },
                                                "type": "histogram"
                                            }
                                        ],
                                        "histogram2d": [
                                            {
                                                "colorbar": {
                                                    "outlinewidth": 0,
                                                    "ticks": ""
                                                },
                                                "colorscale": [
                                                    [
                                                        0,
                                                        "#0d0887"
                                                    ],
                                                    [
                                                        0.1111111111111111,
                                                        "#46039f"
                                                    ],
                                                    [
                                                        0.2222222222222222,
                                                        "#7201a8"
                                                    ],
                                                    [
                                                        0.3333333333333333,
                                                        "#9c179e"
                                                    ],
                                                    [
                                                        0.4444444444444444,
                                                        "#bd3786"
                                                    ],
                                                    [
                                                        0.5555555555555556,
                                                        "#d8576b"
                                                    ],
                                                    [
                                                        0.6666666666666666,
                                                        "#ed7953"
                                                    ],
                                                    [
                                                        0.7777777777777778,
                                                        "#fb9f3a"
                                                    ],
                                                    [
                                                        0.8888888888888888,
                                                        "#fdca26"
                                                    ],
                                                    [
                                                        1,
                                                        "#f0f921"
                                                    ]
                                                ],
                                                "type": "histogram2d"
                                            }
                                        ],
                                        "histogram2dcontour": [
                                            {
                                                "colorbar": {
                                                    "outlinewidth": 0,
                                                    "ticks": ""
                                                },
                                                "colorscale": [
                                                    [
                                                        0,
                                                        "#0d0887"
                                                    ],
                                                    [
                                                        0.1111111111111111,
                                                        "#46039f"
                                                    ],
                                                    [
                                                        0.2222222222222222,
                                                        "#7201a8"
                                                    ],
                                                    [
                                                        0.3333333333333333,
                                                        "#9c179e"
                                                    ],
                                                    [
                                                        0.4444444444444444,
                                                        "#bd3786"
                                                    ],
                                                    [
                                                        0.5555555555555556,
                                                        "#d8576b"
                                                    ],
                                                    [
                                                        0.6666666666666666,
                                                        "#ed7953"
                                                    ],
                                                    [
                                                        0.7777777777777778,
                                                        "#fb9f3a"
                                                    ],
                                                    [
                                                        0.8888888888888888,
                                                        "#fdca26"
                                                    ],
                                                    [
                                                        1,
                                                        "#f0f921"
                                                    ]
                                                ],
                                                "type": "histogram2dcontour"
                                            }
                                        ],
                                        "mesh3d": [
                                            {
                                                "colorbar": {
                                                    "outlinewidth": 0,
                                                    "ticks": ""
                                                },
                                                "type": "mesh3d"
                                            }
                                        ],
                                        "parcoords": [
                                            {
                                                "line": {
                                                    "colorbar": {
                                                        "outlinewidth": 0,
                                                        "ticks": ""
                                                    }
                                                },
                                                "type": "parcoords"
                                            }
                                        ],
                                        "pie": [
                                            {
                                                "automargin": true,
                                                "type": "pie"
                                            }
                                        ],
                                        "scatter": [
                                            {
                                                "fillpattern": {
                                                    "fillmode": "overlay",
                                                    "size": 10,
                                                    "solidity": 0.2
                                                },
                                                "type": "scatter"
                                            }
                                        ],
                                        "scatter3d": [
                                            {
                                                "line": {
                                                    "colorbar": {
                                                        "outlinewidth": 0,
                                                        "ticks": ""
                                                    }
                                                },
                                                "marker": {
                                                    "colorbar": {
                                                        "outlinewidth": 0,
                                                        "ticks": ""
                                                    }
                                                },
                                                "type": "scatter3d"
                                            }
                                        ],
                                        "scattercarpet": [
                                            {
                                                "marker": {
                                                    "colorbar": {
                                                        "outlinewidth": 0,
                                                        "ticks": ""
                                                    }
                                                },
                                                "type": "scattercarpet"
                                            }
                                        ],
                                        "scattergeo": [
                                            {
                                                "marker": {
                                                    "colorbar": {
                                                        "outlinewidth": 0,
                                                        "ticks": ""
                                                    }
                                                },
                                                "type": "scattergeo"
                                            }
                                        ],
                                        "scattergl": [
                                            {
                                                "marker": {
                                                    "colorbar": {
                                                        "outlinewidth": 0,
                                                        "ticks": ""
                                                    }
                                                },
                                                "type": "scattergl"
                                            }
                                        ],
                                        "scattermapbox": [
                                            {
                                                "marker": {
                                                    "colorbar": {
                                                        "outlinewidth": 0,
                                                        "ticks": ""
                                                    }
                                                },
                                                "type": "scattermapbox"
                                            }
                                        ],
                                        "scatterpolar": [
                                            {
                                                "marker": {
                                                    "colorbar": {
                                                        "outlinewidth": 0,
                                                        "ticks": ""
                                                    }
                                                },
                                                "type": "scatterpolar"
                                            }
                                        ],
                                        "scatterpolargl": [
                                            {
                                                "marker": {
                                                    "colorbar": {
                                                        "outlinewidth": 0,
                                                        "ticks": ""
                                                    }
                                                },
                                                "type": "scatterpolargl"
                                            }
                                        ],
                                        "scatterternary": [
                                            {
                                                "marker": {
                                                    "colorbar": {
                                                        "outlinewidth": 0,
                                                        "ticks": ""
                                                    }
                                                },
                                                "type": "scatterternary"
                                            }
                                        ],
                                        "surface": [
                                            {
                                                "colorbar": {
                                                    "outlinewidth": 0,
                                                    "ticks": ""
                                                },
                                                "colorscale": [
                                                    [
                                                        0,
                                                        "#0d0887"
                                                    ],
                                                    [
                                                        0.1111111111111111,
                                                        "#46039f"
                                                    ],
                                                    [
                                                        0.2222222222222222,
                                                        "#7201a8"
                                                    ],
                                                    [
                                                        0.3333333333333333,
                                                        "#9c179e"
                                                    ],
                                                    [
                                                        0.4444444444444444,
                                                        "#bd3786"
                                                    ],
                                                    [
                                                        0.5555555555555556,
                                                        "#d8576b"
                                                    ],
                                                    [
                                                        0.6666666666666666,
                                                        "#ed7953"
                                                    ],
                                                    [
                                                        0.7777777777777778,
                                                        "#fb9f3a"
                                                    ],
                                                    [
                                                        0.8888888888888888,
                                                        "#fdca26"
                                                    ],
                                                    [
                                                        1,
                                                        "#f0f921"
                                                    ]
                                                ],
                                                "type": "surface"
                                            }
                                        ],
                                        "table": [
                                            {
                                                "cells": {
                                                    "fill": {
                                                        "color": "#EBF0F8"
                                                    },
                                                    "line": {
                                                        "color": "white"
                                                    }
                                                },
                                                "header": {
                                                    "fill": {
                                                        "color": "#C8D4E3"
                                                    },
                                                    "line": {
                                                        "color": "white"
                                                    }
                                                },
                                                "type": "table"
                                            }
                                        ]
                                    },
                                    "layout": {
                                        "annotationdefaults": {
                                            "arrowcolor": "#2a3f5f",
                                            "arrowhead": 0,
                                            "arrowwidth": 1
                                        },
                                        "autotypenumbers": "strict",
                                        "coloraxis": {
                                            "colorbar": {
                                                "outlinewidth": 0,
                                                "ticks": ""
                                            }
                                        },
                                        "colorscale": {
                                            "diverging": [
                                                [
                                                    0,
                                                    "#8e0152"
                                                ],
                                                [
                                                    0.1,
                                                    "#c51b7d"
                                                ],
                                                [
                                                    0.2,
                                                    "#de77ae"
                                                ],
                                                [
                                                    0.3,
                                                    "#f1b6da"
                                                ],
                                                [
                                                    0.4,
                                                    "#fde0ef"
                                                ],
                                                [
                                                    0.5,
                                                    "#f7f7f7"
                                                ],
                                                [
                                                    0.6,
                                                    "#e6f5d0"
                                                ],
                                                [
                                                    0.7,
                                                    "#b8e186"
                                                ],
                                                [
                                                    0.8,
                                                    "#7fbc41"
                                                ],
                                                [
                                                    0.9,
                                                    "#4d9221"
                                                ],
                                                [
                                                    1,
                                                    "#276419"
                                                ]
                                            ],
                                            "sequential": [
                                                [
                                                    0,
                                                    "#0d0887"
                                                ],
                                                [
                                                    0.1111111111111111,
                                                    "#46039f"
                                                ],
                                                [
                                                    0.2222222222222222,
                                                    "#7201a8"
                                                ],
                                                [
                                                    0.3333333333333333,
                                                    "#9c179e"
                                                ],
                                                [
                                                    0.4444444444444444,
                                                    "#bd3786"
                                                ],
                                                [
                                                    0.5555555555555556,
                                                    "#d8576b"
                                                ],
                                                [
                                                    0.6666666666666666,
                                                    "#ed7953"
                                                ],
                                                [
                                                    0.7777777777777778,
                                                    "#fb9f3a"
                                                ],
                                                [
                                                    0.8888888888888888,
                                                    "#fdca26"
                                                ],
                                                [
                                                    1,
                                                    "#f0f921"
                                                ]
                                            ],
                                            "sequentialminus": [
                                                [
                                                    0,
                                                    "#0d0887"
                                                ],
                                                [
                                                    0.1111111111111111,
                                                    "#46039f"
                                                ],
                                                [
                                                    0.2222222222222222,
                                                    "#7201a8"
                                                ],
                                                [
                                                    0.3333333333333333,
                                                    "#9c179e"
                                                ],
                                                [
                                                    0.4444444444444444,
                                                    "#bd3786"
                                                ],
                                                [
                                                    0.5555555555555556,
                                                    "#d8576b"
                                                ],
                                                [
                                                    0.6666666666666666,
                                                    "#ed7953"
                                                ],
                                                [
                                                    0.7777777777777778,
                                                    "#fb9f3a"
                                                ],
                                                [
                                                    0.8888888888888888,
                                                    "#fdca26"
                                                ],
                                                [
                                                    1,
                                                    "#f0f921"
                                                ]
                                            ]
                                        },
                                        "colorway": [
                                            "#636efa",
                                            "#EF553B",
                                            "#00cc96",
                                            "#ab63fa",
                                            "#FFA15A",
                                            "#19d3f3",
                                            "#FF6692",
                                            "#B6E880",
                                            "#FF97FF",
                                            "#FECB52"
                                        ],
                                        "font": {
                                            "color": "#2a3f5f"
                                        },
                                        "geo": {
                                            "bgcolor": "white",
                                            "lakecolor": "white",
                                            "landcolor": "#E5ECF6",
                                            "showlakes": true,
                                            "showland": true,
                                            "subunitcolor": "white"
                                        },
                                        "hoverlabel": {
                                            "align": "left"
                                        },
                                        "hovermode": "closest",
                                        "mapbox": {
                                            "style": "light"
                                        },
                                        "paper_bgcolor": "white",
                                        "plot_bgcolor": "#E5ECF6",
                                        "polar": {
                                            "angularaxis": {
                                                "gridcolor": "white",
                                                "linecolor": "white",
                                                "ticks": ""
                                            },
                                            "bgcolor": "#E5ECF6",
                                            "radialaxis": {
                                                "gridcolor": "white",
                                                "linecolor": "white",
                                                "ticks": ""
                                            }
                                        },
                                        "scene": {
                                            "xaxis": {
                                                "backgroundcolor": "#E5ECF6",
                                                "gridcolor": "white",
                                                "gridwidth": 2,
                                                "linecolor": "white",
                                                "showbackground": true,
                                                "ticks": "",
                                                "zerolinecolor": "white"
                                            },
                                            "yaxis": {
                                                "backgroundcolor": "#E5ECF6",
                                                "gridcolor": "white",
                                                "gridwidth": 2,
                                                "linecolor": "white",
                                                "showbackground": true,
                                                "ticks": "",
                                                "zerolinecolor": "white"
                                            },
                                            "zaxis": {
                                                "backgroundcolor": "#E5ECF6",
                                                "gridcolor": "white",
                                                "gridwidth": 2,
                                                "linecolor": "white",
                                                "showbackground": true,
                                                "ticks": "",
                                                "zerolinecolor": "white"
                                            }
                                        },
                                        "shapedefaults": {
                                            "line": {
                                                "color": "#2a3f5f"
                                            }
                                        },
                                        "ternary": {
                                            "aaxis": {
                                                "gridcolor": "white",
                                                "linecolor": "white",
                                                "ticks": ""
                                            },
                                            "baxis": {
                                                "gridcolor": "white",
                                                "linecolor": "white",
                                                "ticks": ""
                                            },
                                            "bgcolor": "#E5ECF6",
                                            "caxis": {
                                                "gridcolor": "white",
                                                "linecolor": "white",
                                                "ticks": ""
                                            }
                                        },
                                        "title": {
                                            "x": 0.05
                                        },
                                        "xaxis": {
                                            "automargin": true,
                                            "gridcolor": "white",
                                            "linecolor": "white",
                                            "ticks": "",
                                            "title": {
                                                "standoff": 15
                                            },
                                            "zerolinecolor": "white",
                                            "zerolinewidth": 2
                                        },
                                        "yaxis": {
                                            "automargin": true,
                                            "gridcolor": "white",
                                            "linecolor": "white",
                                            "ticks": "",
                                            "title": {
                                                "standoff": 15
                                            },
                                            "zerolinecolor": "white",
                                            "zerolinewidth": 2
                                        }
                                    }
                                },
                                "title": {
                                    "text": "Nobel Laureates by Country of Birth"
                                }
                            }
                        }
                    },
                    "metadata": {},
                    "output_type": "display_data"
                }
            ],
            "source": [
                "nobel_country_counts = nobel_df['birth_place_country'].value_counts().reset_index()\n",
                "nobel_country_counts.columns = ['Country', 'Laureates']\n",
                "\n",
                "fig = px.choropleth(\n",
                "    nobel_country_counts,\n",
                "    locations=\"Country\",\n",
                "    locationmode=\"country names\",\n",
                "    color=\"Laureates\",\n",
                "    color_continuous_scale=\"Plasma\",\n",
                "    title=\"Nobel Laureates by Country of Birth\",\n",
                "    labels={\"Laureates\": \"Number of Laureates\"}\n",
                ")\n",
                "\n",
                "fig.show()\n",
                "fig.write_image(\"map_snapshot.png\")  \n",
                "fig.write_html(\"nobel_laureates_map.html\")"
            ]
        },
        {
            "cell_type": "markdown",
            "metadata": {},
            "source": [
                "![Nobel Laureates Map](map_snapshot.png)\n"
            ]
        },
        {
            "cell_type": "markdown",
            "metadata": {},
            "source": [
                "The map shows that the USA has significantly more laureates than other countries.\n",
                "\n",
                "Most European countries have laureates.\n",
                "\n",
                "Africa and Oceania have fewer laureates.\n",
                " "
            ]
        },
        {
            "cell_type": "markdown",
            "metadata": {},
            "source": [
                "## Top Countries for Each Nobel Prize Category"
            ]
        },
        {
            "cell_type": "code",
            "execution_count": 9,
            "metadata": {},
            "outputs": [
                {
                    "data": {
                        "image/png": "[encoded data removed]",
                        "text/plain": [
                            "<Figure size 1400x800 with 1 Axes>"
                        ]
                    },
                    "metadata": {},
                    "output_type": "display_data"
                }
            ],
            "source": [
                "\n",
                "nobel_country_category_counts = nobel_df.groupby(['birth_place_country', 'category.en']).size().reset_index(name='Laureates')\n",
                "\n",
                "top_countries_by_category = nobel_country_category_counts.sort_values(by='Laureates', ascending=False).groupby('category.en').head(5)\n",
                "\n",
                "\n",
                "fig, ax = plt.subplots(figsize=(14, 8))\n",
                "\n",
                "categories = top_countries_by_category['category.en'].unique()\n",
                "countries = top_countries_by_category['birth_place_country'].unique()\n",
                "\n",
                "for country in countries:\n",
                "    data = top_countries_by_category[top_countries_by_category['birth_place_country'] == country]\n",
                "    ax.bar(data['category.en'], data['Laureates'], label=country)\n",
                "\n",
                "plt.title(\"Top Countries for Each Nobel Prize Category\", fontsize=16)\n",
                "plt.xlabel(\"Category\", fontsize=12)\n",
                "plt.ylabel(\"Number of Laureates\", fontsize=12)\n",
                "plt.legend(title=\"Country\", bbox_to_anchor=(1.05, 1), loc='upper left', fontsize=10)\n",
                "plt.xticks(rotation=45, ha='right')\n",
                "plt.tight_layout()\n",
                "\n",
                "plt.show()\n"
            ]
        },
        {
            "cell_type": "markdown",
            "metadata": {},
            "source": [
                "The chart shows the distribution of Nobel laureates across different categories and countries. The USA dominates most categories, especially in Physiology or Medicine, Physics, and Chemistry, reflecting its strong research and innovation. The UK and Germany also contribute significantly, particularly in scientific fields like Physics, Chemistry, and Economic Sciences. Categories like Literature and Peace show a more balanced distribution across countries, with France contributing notably in Literature. Smaller contributions from countries like Sweden and Japan are also visible in specific categories. Overall, the chart highlights the USA's dominance in science and broader global participation in non-science categories."
            ]
        },
        {
            "cell_type": "markdown",
            "metadata": {},
            "source": [
                "## The Distribution of Nobel Laureates by gender"
            ]
        },
        {
            "cell_type": "code",
            "execution_count": 10,
            "metadata": {},
            "outputs": [
                {
                    "data": {
                        "image/png": "[encoded data removed]",
                        "text/plain": [
                            "<Figure size 800x600 with 1 Axes>"
                        ]
                    },
                    "metadata": {},
                    "output_type": "display_data"
                }
            ],
            "source": [
                "\n",
                "gender_counts = nobel_df['gender'].value_counts()\n",
                "\n",
                "plt.figure(figsize=(8, 6))\n",
                "gender_counts.plot(kind='bar', color=['skyblue', 'salmon', 'gray'])\n",
                "\n",
                "\n",
                "plt.title(\"Nobel Laureates by Gender\", fontsize=16)\n",
                "plt.xlabel(\"Gender\", fontsize=12)\n",
                "plt.ylabel(\"Number of Laureates\", fontsize=12)\n",
                "plt.xticks(rotation=0)\n",
                "plt.grid(axis='y', linestyle='--', alpha=0.7)\n",
                "\n",
                "plt.tight_layout()\n",
                "plt.show()\n"
            ]
        },
        {
            "cell_type": "code",
            "execution_count": 11,
            "metadata": {},
            "outputs": [
                {
                    "data": {
                        "image/png": "[encoded data removed]",
                        "text/plain": [
                            "<Figure size 1200x600 with 1 Axes>"
                        ]
                    },
                    "metadata": {},
                    "output_type": "display_data"
                }
            ],
            "source": [
                "gender_category_counts = nobel_df.groupby(['category.en', 'gender']).size().reset_index(name='Count')\n",
                "\n",
                "plt.figure(figsize=(12, 6))\n",
                "sns.barplot(\n",
                "    data=gender_category_counts,\n",
                "    x='category.en',\n",
                "    y='Count',\n",
                "    hue='gender',\n",
                "    palette='pastel'\n",
                ")\n",
                "\n",
                "plt.title('Distribution of Gender by Categories', fontsize=16)\n",
                "plt.xlabel('Category', fontsize=12)\n",
                "plt.ylabel('Count', fontsize=12)\n",
                "plt.xticks(rotation=45)\n",
                "plt.legend(title='Gender')\n",
                "\n",
                "plt.tight_layout()\n",
                "plt.show()\n"
            ]
        },
        {
            "cell_type": "markdown",
            "metadata": {},
            "source": [
                "Females who have won the Nobel Prize are significantly fewer than males.\n",
                "Females have won more frequently in categories such as Literature, Peace, and Physiology or Medicine while males have won more frequently in categories such as Chemistry, Physics, and Physiology or Medicine."
            ]
        },
        {
            "cell_type": "markdown",
            "metadata": {},
            "source": [
                "## Age Distribution Of Nobel Laureates At The Time Of Award"
            ]
        },
        {
            "cell_type": "code",
            "execution_count": 12,
            "metadata": {},
            "outputs": [
                {
                    "data": {
                        "image/png": "[encoded data removed]",
                        "text/plain": [
                            "<Figure size 1000x600 with 1 Axes>"
                        ]
                    },
                    "metadata": {},
                    "output_type": "display_data"
                }
            ],
            "source": [
                "nobel_df['awardYear'] = pd.to_numeric(nobel_df['awardYear'], errors='coerce')\n",
                "nobel_df['birth_year'] = pd.to_datetime(nobel_df['birth_date'], errors='coerce').dt.year\n",
                "nobel_df['age_at_award'] = nobel_df['awardYear'] - nobel_df['birth_year']\n",
                "\n",
                "\n",
                "age_data = nobel_df['age_at_award'].dropna()\n",
                "\n",
                "\n",
                "plt.figure(figsize=(10, 6))\n",
                "plt.hist(age_data, bins=np.arange(20, 90, 5), color='skyblue', edgecolor='black', alpha=0.7)\n",
                "\n",
                "\n",
                "plt.title(\"Age Distribution of Nobel Laureates at the Time of Award\", fontsize=16)\n",
                "plt.xlabel(\"Age at Award\", fontsize=12)\n",
                "plt.ylabel(\"Number of Laureates\", fontsize=12)\n",
                "plt.grid(axis='y', linestyle='--', alpha=0.7)\n",
                "\n",
                "\n",
                "plt.tight_layout()\n",
                "plt.show()\n"
            ]
        },
        {
            "cell_type": "markdown",
            "metadata": {},
            "source": [
                "The histogram illustrates the age distribution of Nobel laureates at the time of receiving their awards. Most laureates tend to receive the prize in their late 40s to early 60s"
            ]
        },
        {
            "cell_type": "markdown",
            "metadata": {},
            "source": [
                "## Historical patterns over time(gender and country)"
            ]
        },
        {
            "cell_type": "code",
            "execution_count": 13,
            "metadata": {},
            "outputs": [
                {
                    "data": {
                        "application/vnd.plotly.v1+json": {
                            "config": {
                                "plotlyServerURL": "https://plot.ly"
                            },
                            "data": [
                                {
                                    "hovertemplate": "Gender=female<br>Decade=%{x}<br>Number of Laureates=%{y}<extra></extra>",
                                    "legendgroup": "female",
                                    "line": {
                                        "color": "#636efa",
                                        "dash": "solid"
                                    },
                                    "marker": {
                                        "symbol": "circle"
                                    },
                                    "mode": "lines",
                                    "name": "female",
                                    "orientation": "v",
                                    "showlegend": true,
                                    "type": "scatter",
                                    "x": [
                                        1900,
                                        1910,
                                        1920,
                                        1930,
                                        1940,
                                        1960,
                                        1970,
                                        1980,
                                        1990,
                                        2000,
                                        2010,
                                        2020
                                    ],
                                    "xaxis": "x",
                                    "y": [
                                        4,
                                        2,
                                        2,
                                        3,
                                        3,
                                        3,
                                        4,
                                        4,
                                        7,
                                        11,
                                        13,
                                        12
                                    ],
                                    "yaxis": "y"
                                },
                                {
                                    "hovertemplate": "Gender=male<br>Decade=%{x}<br>Number of Laureates=%{y}<extra></extra>",
                                    "legendgroup": "male",
                                    "line": {
                                        "color": "#EF553B",
                                        "dash": "solid"
                                    },
                                    "marker": {
                                        "symbol": "circle"
                                    },
                                    "mode": "lines",
                                    "name": "male",
                                    "orientation": "v",
                                    "showlegend": true,
                                    "type": "scatter",
                                    "x": [
                                        1900,
                                        1910,
                                        1920,
                                        1930,
                                        1940,
                                        1950,
                                        1960,
                                        1970,
                                        1980,
                                        1990,
                                        2000,
                                        2010,
                                        2020
                                    ],
                                    "xaxis": "x",
                                    "y": [
                                        52,
                                        37,
                                        52,
                                        52,
                                        37,
                                        74,
                                        73,
                                        100,
                                        91,
                                        94,
                                        109,
                                        104,
                                        47
                                    ],
                                    "yaxis": "y"
                                }
                            ],
                            "layout": {
                                "legend": {
                                    "title": {
                                        "text": "Gender"
                                    },
                                    "tracegroupgap": 0
                                },
                                "template": {
                                    "data": {
                                        "bar": [
                                            {
                                                "error_x": {
                                                    "color": "#2a3f5f"
                                                },
                                                "error_y": {
                                                    "color": "#2a3f5f"
                                                },
                                                "marker": {
                                                    "line": {
                                                        "color": "#E5ECF6",
                                                        "width": 0.5
                                                    },
                                                    "pattern": {
                                                        "fillmode": "overlay",
                                                        "size": 10,
                                                        "solidity": 0.2
                                                    }
                                                },
                                                "type": "bar"
                                            }
                                        ],
                                        "barpolar": [
                                            {
                                                "marker": {
                                                    "line": {
                                                        "color": "#E5ECF6",
                                                        "width": 0.5
                                                    },
                                                    "pattern": {
                                                        "fillmode": "overlay",
                                                        "size": 10,
                                                        "solidity": 0.2
                                                    }
                                                },
                                                "type": "barpolar"
                                            }
                                        ],
                                        "carpet": [
                                            {
                                                "aaxis": {
                                                    "endlinecolor": "#2a3f5f",
                                                    "gridcolor": "white",
                                                    "linecolor": "white",
                                                    "minorgridcolor": "white",
                                                    "startlinecolor": "#2a3f5f"
                                                },
                                                "baxis": {
                                                    "endlinecolor": "#2a3f5f",
                                                    "gridcolor": "white",
                                                    "linecolor": "white",
                                                    "minorgridcolor": "white",
                                                    "startlinecolor": "#2a3f5f"
                                                },
                                                "type": "carpet"
                                            }
                                        ],
                                        "choropleth": [
                                            {
                                                "colorbar": {
                                                    "outlinewidth": 0,
                                                    "ticks": ""
                                                },
                                                "type": "choropleth"
                                            }
                                        ],
                                        "contour": [
                                            {
                                                "colorbar": {
                                                    "outlinewidth": 0,
                                                    "ticks": ""
                                                },
                                                "colorscale": [
                                                    [
                                                        0,
                                                        "#0d0887"
                                                    ],
                                                    [
                                                        0.1111111111111111,
                                                        "#46039f"
                                                    ],
                                                    [
                                                        0.2222222222222222,
                                                        "#7201a8"
                                                    ],
                                                    [
                                                        0.3333333333333333,
                                                        "#9c179e"
                                                    ],
                                                    [
                                                        0.4444444444444444,
                                                        "#bd3786"
                                                    ],
                                                    [
                                                        0.5555555555555556,
                                                        "#d8576b"
                                                    ],
                                                    [
                                                        0.6666666666666666,
                                                        "#ed7953"
                                                    ],
                                                    [
                                                        0.7777777777777778,
                                                        "#fb9f3a"
                                                    ],
                                                    [
                                                        0.8888888888888888,
                                                        "#fdca26"
                                                    ],
                                                    [
                                                        1,
                                                        "#f0f921"
                                                    ]
                                                ],
                                                "type": "contour"
                                            }
                                        ],
                                        "contourcarpet": [
                                            {
                                                "colorbar": {
                                                    "outlinewidth": 0,
                                                    "ticks": ""
                                                },
                                                "type": "contourcarpet"
                                            }
                                        ],
                                        "heatmap": [
                                            {
                                                "colorbar": {
                                                    "outlinewidth": 0,
                                                    "ticks": ""
                                                },
                                                "colorscale": [
                                                    [
                                                        0,
                                                        "#0d0887"
                                                    ],
                                                    [
                                                        0.1111111111111111,
                                                        "#46039f"
                                                    ],
                                                    [
                                                        0.2222222222222222,
                                                        "#7201a8"
                                                    ],
                                                    [
                                                        0.3333333333333333,
                                                        "#9c179e"
                                                    ],
                                                    [
                                                        0.4444444444444444,
                                                        "#bd3786"
                                                    ],
                                                    [
                                                        0.5555555555555556,
                                                        "#d8576b"
                                                    ],
                                                    [
                                                        0.6666666666666666,
                                                        "#ed7953"
                                                    ],
                                                    [
                                                        0.7777777777777778,
                                                        "#fb9f3a"
                                                    ],
                                                    [
                                                        0.8888888888888888,
                                                        "#fdca26"
                                                    ],
                                                    [
                                                        1,
                                                        "#f0f921"
                                                    ]
                                                ],
                                                "type": "heatmap"
                                            }
                                        ],
                                        "heatmapgl": [
                                            {
                                                "colorbar": {
                                                    "outlinewidth": 0,
                                                    "ticks": ""
                                                },
                                                "colorscale": [
                                                    [
                                                        0,
                                                        "#0d0887"
                                                    ],
                                                    [
                                                        0.1111111111111111,
                                                        "#46039f"
                                                    ],
                                                    [
                                                        0.2222222222222222,
                                                        "#7201a8"
                                                    ],
                                                    [
                                                        0.3333333333333333,
                                                        "#9c179e"
                                                    ],
                                                    [
                                                        0.4444444444444444,
                                                        "#bd3786"
                                                    ],
                                                    [
                                                        0.5555555555555556,
                                                        "#d8576b"
                                                    ],
                                                    [
                                                        0.6666666666666666,
                                                        "#ed7953"
                                                    ],
                                                    [
                                                        0.7777777777777778,
                                                        "#fb9f3a"
                                                    ],
                                                    [
                                                        0.8888888888888888,
                                                        "#fdca26"
                                                    ],
                                                    [
                                                        1,
                                                        "#f0f921"
                                                    ]
                                                ],
                                                "type": "heatmapgl"
                                            }
                                        ],
                                        "histogram": [
                                            {
                                                "marker": {
                                                    "pattern": {
                                                        "fillmode": "overlay",
                                                        "size": 10,
                                                        "solidity": 0.2
                                                    }
                                                },
                                                "type": "histogram"
                                            }
                                        ],
                                        "histogram2d": [
                                            {
                                                "colorbar": {
                                                    "outlinewidth": 0,
                                                    "ticks": ""
                                                },
                                                "colorscale": [
                                                    [
                                                        0,
                                                        "#0d0887"
                                                    ],
                                                    [
                                                        0.1111111111111111,
                                                        "#46039f"
                                                    ],
                                                    [
                                                        0.2222222222222222,
                                                        "#7201a8"
                                                    ],
                                                    [
                                                        0.3333333333333333,
                                                        "#9c179e"
                                                    ],
                                                    [
                                                        0.4444444444444444,
                                                        "#bd3786"
                                                    ],
                                                    [
                                                        0.5555555555555556,
                                                        "#d8576b"
                                                    ],
                                                    [
                                                        0.6666666666666666,
                                                        "#ed7953"
                                                    ],
                                                    [
                                                        0.7777777777777778,
                                                        "#fb9f3a"
                                                    ],
                                                    [
                                                        0.8888888888888888,
                                                        "#fdca26"
                                                    ],
                                                    [
                                                        1,
                                                        "#f0f921"
                                                    ]
                                                ],
                                                "type": "histogram2d"
                                            }
                                        ],
                                        "histogram2dcontour": [
                                            {
                                                "colorbar": {
                                                    "outlinewidth": 0,
                                                    "ticks": ""
                                                },
                                                "colorscale": [
                                                    [
                                                        0,
                                                        "#0d0887"
                                                    ],
                                                    [
                                                        0.1111111111111111,
                                                        "#46039f"
                                                    ],
                                                    [
                                                        0.2222222222222222,
                                                        "#7201a8"
                                                    ],
                                                    [
                                                        0.3333333333333333,
                                                        "#9c179e"
                                                    ],
                                                    [
                                                        0.4444444444444444,
                                                        "#bd3786"
                                                    ],
                                                    [
                                                        0.5555555555555556,
                                                        "#d8576b"
                                                    ],
                                                    [
                                                        0.6666666666666666,
                                                        "#ed7953"
                                                    ],
                                                    [
                                                        0.7777777777777778,
                                                        "#fb9f3a"
                                                    ],
                                                    [
                                                        0.8888888888888888,
                                                        "#fdca26"
                                                    ],
                                                    [
                                                        1,
                                                        "#f0f921"
                                                    ]
                                                ],
                                                "type": "histogram2dcontour"
                                            }
                                        ],
                                        "mesh3d": [
                                            {
                                                "colorbar": {
                                                    "outlinewidth": 0,
                                                    "ticks": ""
                                                },
                                                "type": "mesh3d"
                                            }
                                        ],
                                        "parcoords": [
                                            {
                                                "line": {
                                                    "colorbar": {
                                                        "outlinewidth": 0,
                                                        "ticks": ""
                                                    }
                                                },
                                                "type": "parcoords"
                                            }
                                        ],
                                        "pie": [
                                            {
                                                "automargin": true,
                                                "type": "pie"
                                            }
                                        ],
                                        "scatter": [
                                            {
                                                "fillpattern": {
                                                    "fillmode": "overlay",
                                                    "size": 10,
                                                    "solidity": 0.2
                                                },
                                                "type": "scatter"
                                            }
                                        ],
                                        "scatter3d": [
                                            {
                                                "line": {
                                                    "colorbar": {
                                                        "outlinewidth": 0,
                                                        "ticks": ""
                                                    }
                                                },
                                                "marker": {
                                                    "colorbar": {
                                                        "outlinewidth": 0,
                                                        "ticks": ""
                                                    }
                                                },
                                                "type": "scatter3d"
                                            }
                                        ],
                                        "scattercarpet": [
                                            {
                                                "marker": {
                                                    "colorbar": {
                                                        "outlinewidth": 0,
                                                        "ticks": ""
                                                    }
                                                },
                                                "type": "scattercarpet"
                                            }
                                        ],
                                        "scattergeo": [
                                            {
                                                "marker": {
                                                    "colorbar": {
                                                        "outlinewidth": 0,
                                                        "ticks": ""
                                                    }
                                                },
                                                "type": "scattergeo"
                                            }
                                        ],
                                        "scattergl": [
                                            {
                                                "marker": {
                                                    "colorbar": {
                                                        "outlinewidth": 0,
                                                        "ticks": ""
                                                    }
                                                },
                                                "type": "scattergl"
                                            }
                                        ],
                                        "scattermapbox": [
                                            {
                                                "marker": {
                                                    "colorbar": {
                                                        "outlinewidth": 0,
                                                        "ticks": ""
                                                    }
                                                },
                                                "type": "scattermapbox"
                                            }
                                        ],
                                        "scatterpolar": [
                                            {
                                                "marker": {
                                                    "colorbar": {
                                                        "outlinewidth": 0,
                                                        "ticks": ""
                                                    }
                                                },
                                                "type": "scatterpolar"
                                            }
                                        ],
                                        "scatterpolargl": [
                                            {
                                                "marker": {
                                                    "colorbar": {
                                                        "outlinewidth": 0,
                                                        "ticks": ""
                                                    }
                                                },
                                                "type": "scatterpolargl"
                                            }
                                        ],
                                        "scatterternary": [
                                            {
                                                "marker": {
                                                    "colorbar": {
                                                        "outlinewidth": 0,
                                                        "ticks": ""
                                                    }
                                                },
                                                "type": "scatterternary"
                                            }
                                        ],
                                        "surface": [
                                            {
                                                "colorbar": {
                                                    "outlinewidth": 0,
                                                    "ticks": ""
                                                },
                                                "colorscale": [
                                                    [
                                                        0,
                                                        "#0d0887"
                                                    ],
                                                    [
                                                        0.1111111111111111,
                                                        "#46039f"
                                                    ],
                                                    [
                                                        0.2222222222222222,
                                                        "#7201a8"
                                                    ],
                                                    [
                                                        0.3333333333333333,
                                                        "#9c179e"
                                                    ],
                                                    [
                                                        0.4444444444444444,
                                                        "#bd3786"
                                                    ],
                                                    [
                                                        0.5555555555555556,
                                                        "#d8576b"
                                                    ],
                                                    [
                                                        0.6666666666666666,
                                                        "#ed7953"
                                                    ],
                                                    [
                                                        0.7777777777777778,
                                                        "#fb9f3a"
                                                    ],
                                                    [
                                                        0.8888888888888888,
                                                        "#fdca26"
                                                    ],
                                                    [
                                                        1,
                                                        "#f0f921"
                                                    ]
                                                ],
                                                "type": "surface"
                                            }
                                        ],
                                        "table": [
                                            {
                                                "cells": {
                                                    "fill": {
                                                        "color": "#EBF0F8"
                                                    },
                                                    "line": {
                                                        "color": "white"
                                                    }
                                                },
                                                "header": {
                                                    "fill": {
                                                        "color": "#C8D4E3"
                                                    },
                                                    "line": {
                                                        "color": "white"
                                                    }
                                                },
                                                "type": "table"
                                            }
                                        ]
                                    },
                                    "layout": {
                                        "annotationdefaults": {
                                            "arrowcolor": "#2a3f5f",
                                            "arrowhead": 0,
                                            "arrowwidth": 1
                                        },
                                        "autotypenumbers": "strict",
                                        "coloraxis": {
                                            "colorbar": {
                                                "outlinewidth": 0,
                                                "ticks": ""
                                            }
                                        },
                                        "colorscale": {
                                            "diverging": [
                                                [
                                                    0,
                                                    "#8e0152"
                                                ],
                                                [
                                                    0.1,
                                                    "#c51b7d"
                                                ],
                                                [
                                                    0.2,
                                                    "#de77ae"
                                                ],
                                                [
                                                    0.3,
                                                    "#f1b6da"
                                                ],
                                                [
                                                    0.4,
                                                    "#fde0ef"
                                                ],
                                                [
                                                    0.5,
                                                    "#f7f7f7"
                                                ],
                                                [
                                                    0.6,
                                                    "#e6f5d0"
                                                ],
                                                [
                                                    0.7,
                                                    "#b8e186"
                                                ],
                                                [
                                                    0.8,
                                                    "#7fbc41"
                                                ],
                                                [
                                                    0.9,
                                                    "#4d9221"
                                                ],
                                                [
                                                    1,
                                                    "#276419"
                                                ]
                                            ],
                                            "sequential": [
                                                [
                                                    0,
                                                    "#0d0887"
                                                ],
                                                [
                                                    0.1111111111111111,
                                                    "#46039f"
                                                ],
                                                [
                                                    0.2222222222222222,
                                                    "#7201a8"
                                                ],
                                                [
                                                    0.3333333333333333,
                                                    "#9c179e"
                                                ],
                                                [
                                                    0.4444444444444444,
                                                    "#bd3786"
                                                ],
                                                [
                                                    0.5555555555555556,
                                                    "#d8576b"
                                                ],
                                                [
                                                    0.6666666666666666,
                                                    "#ed7953"
                                                ],
                                                [
                                                    0.7777777777777778,
                                                    "#fb9f3a"
                                                ],
                                                [
                                                    0.8888888888888888,
                                                    "#fdca26"
                                                ],
                                                [
                                                    1,
                                                    "#f0f921"
                                                ]
                                            ],
                                            "sequentialminus": [
                                                [
                                                    0,
                                                    "#0d0887"
                                                ],
                                                [
                                                    0.1111111111111111,
                                                    "#46039f"
                                                ],
                                                [
                                                    0.2222222222222222,
                                                    "#7201a8"
                                                ],
                                                [
                                                    0.3333333333333333,
                                                    "#9c179e"
                                                ],
                                                [
                                                    0.4444444444444444,
                                                    "#bd3786"
                                                ],
                                                [
                                                    0.5555555555555556,
                                                    "#d8576b"
                                                ],
                                                [
                                                    0.6666666666666666,
                                                    "#ed7953"
                                                ],
                                                [
                                                    0.7777777777777778,
                                                    "#fb9f3a"
                                                ],
                                                [
                                                    0.8888888888888888,
                                                    "#fdca26"
                                                ],
                                                [
                                                    1,
                                                    "#f0f921"
                                                ]
                                            ]
                                        },
                                        "colorway": [
                                            "#636efa",
                                            "#EF553B",
                                            "#00cc96",
                                            "#ab63fa",
                                            "#FFA15A",
                                            "#19d3f3",
                                            "#FF6692",
                                            "#B6E880",
                                            "#FF97FF",
                                            "#FECB52"
                                        ],
                                        "font": {
                                            "color": "#2a3f5f"
                                        },
                                        "geo": {
                                            "bgcolor": "white",
                                            "lakecolor": "white",
                                            "landcolor": "#E5ECF6",
                                            "showlakes": true,
                                            "showland": true,
                                            "subunitcolor": "white"
                                        },
                                        "hoverlabel": {
                                            "align": "left"
                                        },
                                        "hovermode": "closest",
                                        "mapbox": {
                                            "style": "light"
                                        },
                                        "paper_bgcolor": "white",
                                        "plot_bgcolor": "#E5ECF6",
                                        "polar": {
                                            "angularaxis": {
                                                "gridcolor": "white",
                                                "linecolor": "white",
                                                "ticks": ""
                                            },
                                            "bgcolor": "#E5ECF6",
                                            "radialaxis": {
                                                "gridcolor": "white",
                                                "linecolor": "white",
                                                "ticks": ""
                                            }
                                        },
                                        "scene": {
                                            "xaxis": {
                                                "backgroundcolor": "#E5ECF6",
                                                "gridcolor": "white",
                                                "gridwidth": 2,
                                                "linecolor": "white",
                                                "showbackground": true,
                                                "ticks": "",
                                                "zerolinecolor": "white"
                                            },
                                            "yaxis": {
                                                "backgroundcolor": "#E5ECF6",
                                                "gridcolor": "white",
                                                "gridwidth": 2,
                                                "linecolor": "white",
                                                "showbackground": true,
                                                "ticks": "",
                                                "zerolinecolor": "white"
                                            },
                                            "zaxis": {
                                                "backgroundcolor": "#E5ECF6",
                                                "gridcolor": "white",
                                                "gridwidth": 2,
                                                "linecolor": "white",
                                                "showbackground": true,
                                                "ticks": "",
                                                "zerolinecolor": "white"
                                            }
                                        },
                                        "shapedefaults": {
                                            "line": {
                                                "color": "#2a3f5f"
                                            }
                                        },
                                        "ternary": {
                                            "aaxis": {
                                                "gridcolor": "white",
                                                "linecolor": "white",
                                                "ticks": ""
                                            },
                                            "baxis": {
                                                "gridcolor": "white",
                                                "linecolor": "white",
                                                "ticks": ""
                                            },
                                            "bgcolor": "#E5ECF6",
                                            "caxis": {
                                                "gridcolor": "white",
                                                "linecolor": "white",
                                                "ticks": ""
                                            }
                                        },
                                        "title": {
                                            "x": 0.05
                                        },
                                        "xaxis": {
                                            "automargin": true,
                                            "gridcolor": "white",
                                            "linecolor": "white",
                                            "ticks": "",
                                            "title": {
                                                "standoff": 15
                                            },
                                            "zerolinecolor": "white",
                                            "zerolinewidth": 2
                                        },
                                        "yaxis": {
                                            "automargin": true,
                                            "gridcolor": "white",
                                            "linecolor": "white",
                                            "ticks": "",
                                            "title": {
                                                "standoff": 15
                                            },
                                            "zerolinecolor": "white",
                                            "zerolinewidth": 2
                                        }
                                    }
                                },
                                "title": {
                                    "text": "Gender Distribution of Nobel Laureates Over Time"
                                },
                                "xaxis": {
                                    "anchor": "y",
                                    "domain": [
                                        0,
                                        1
                                    ],
                                    "title": {
                                        "text": "Decade"
                                    }
                                },
                                "yaxis": {
                                    "anchor": "x",
                                    "domain": [
                                        0,
                                        1
                                    ],
                                    "title": {
                                        "text": "Number of Laureates"
                                    }
                                }
                            }
                        }
                    },
                    "metadata": {},
                    "output_type": "display_data"
                },
                {
                    "data": {
                        "application/vnd.plotly.v1+json": {
                            "config": {
                                "plotlyServerURL": "https://plot.ly"
                            },
                            "data": [
                                {
                                    "coloraxis": "coloraxis",
                                    "geo": "geo",
                                    "hovertemplate": "Decade=1900<br>Country=%{location}<br>Number of Laureates=%{z}<extra></extra>",
                                    "locationmode": "country names",
                                    "locations": [
                                        "Austrian Empire",
                                        "Bavaria",
                                        "Belgium",
                                        "British India",
                                        "Denmark",
                                        "East Friesland",
                                        "Faroe Islands (Denmark)",
                                        "France",
                                        "Germany",
                                        "Hesse-Kassel",
                                        "Hungary",
                                        "India",
                                        "Italy",
                                        "Luxembourg",
                                        "New Zealand",
                                        "Norway",
                                        "Poland",
                                        "Prussia",
                                        "Russia",
                                        "Russian Empire",
                                        "Schleswig",
                                        "Scotland",
                                        "Spain",
                                        "Sweden",
                                        "Switzerland",
                                        "Tuscany",
                                        "USA",
                                        "United Kingdom",
                                        "the Netherlands"
                                    ],
                                    "name": "",
                                    "type": "choropleth",
                                    "z": [
                                        2,
                                        1,
                                        1,
                                        1,
                                        1,
                                        1,
                                        1,
                                        9,
                                        1,
                                        1,
                                        1,
                                        1,
                                        2,
                                        1,
                                        1,
                                        1,
                                        1,
                                        6,
                                        1,
                                        4,
                                        1,
                                        1,
                                        2,
                                        3,
                                        4,
                                        1,
                                        1,
                                        3,
                                        2
                                    ]
                                }
                            ],
                            "frames": [
                                {
                                    "data": [
                                        {
                                            "coloraxis": "coloraxis",
                                            "geo": "geo",
                                            "hovertemplate": "Decade=1900<br>Country=%{location}<br>Number of Laureates=%{z}<extra></extra>",
                                            "locationmode": "country names",
                                            "locations": [
                                                "Austrian Empire",
                                                "Bavaria",
                                                "Belgium",
                                                "British India",
                                                "Denmark",
                                                "East Friesland",
                                                "Faroe Islands (Denmark)",
                                                "France",
                                                "Germany",
                                                "Hesse-Kassel",
                                                "Hungary",
                                                "India",
                                                "Italy",
                                                "Luxembourg",
                                                "New Zealand",
                                                "Norway",
                                                "Poland",
                                                "Prussia",
                                                "Russia",
                                                "Russian Empire",
                                                "Schleswig",
                                                "Scotland",
                                                "Spain",
                                                "Sweden",
                                                "Switzerland",
                                                "Tuscany",
                                                "USA",
                                                "United Kingdom",
                                                "the Netherlands"
                                            ],
                                            "name": "",
                                            "type": "choropleth",
                                            "z": [
                                                2,
                                                1,
                                                1,
                                                1,
                                                1,
                                                1,
                                                1,
                                                9,
                                                1,
                                                1,
                                                1,
                                                1,
                                                2,
                                                1,
                                                1,
                                                1,
                                                1,
                                                6,
                                                1,
                                                4,
                                                1,
                                                1,
                                                2,
                                                3,
                                                4,
                                                1,
                                                1,
                                                3,
                                                2
                                            ]
                                        }
                                    ],
                                    "name": "1900"
                                },
                                {
                                    "data": [
                                        {
                                            "coloraxis": "coloraxis",
                                            "geo": "geo",
                                            "hovertemplate": "Decade=1910<br>Country=%{location}<br>Number of Laureates=%{z}<extra></extra>",
                                            "locationmode": "country names",
                                            "locations": [
                                                "Australia",
                                                "Austria",
                                                "Belgium",
                                                "Denmark",
                                                "France",
                                                "Germany",
                                                "India",
                                                "Mecklenburg",
                                                "Prussia",
                                                "Russian Empire",
                                                "Schleswig",
                                                "Sweden",
                                                "Switzerland",
                                                "USA",
                                                "United Kingdom",
                                                "the Netherlands"
                                            ],
                                            "name": "",
                                            "type": "choropleth",
                                            "z": [
                                                1,
                                                2,
                                                3,
                                                2,
                                                6,
                                                4,
                                                1,
                                                1,
                                                4,
                                                2,
                                                1,
                                                3,
                                                1,
                                                3,
                                                2,
                                                3
                                            ]
                                        }
                                    ],
                                    "name": "1910"
                                },
                                {
                                    "data": [
                                        {
                                            "coloraxis": "coloraxis",
                                            "geo": "geo",
                                            "hovertemplate": "Decade=1920<br>Country=%{location}<br>Number of Laureates=%{z}<extra></extra>",
                                            "locationmode": "country names",
                                            "locations": [
                                                "Austria",
                                                "Austria-Hungary",
                                                "Austrian Empire",
                                                "Canada",
                                                "Denmark",
                                                "France",
                                                "Germany",
                                                "Ireland",
                                                "Italy",
                                                "Java, Dutch East Indies",
                                                "Norway",
                                                "Prussia",
                                                "Russian Empire",
                                                "Scotland",
                                                "Spain",
                                                "Sweden",
                                                "Switzerland",
                                                "USA",
                                                "United Kingdom",
                                                "the Netherlands"
                                            ],
                                            "name": "",
                                            "type": "choropleth",
                                            "z": [
                                                1,
                                                1,
                                                1,
                                                1,
                                                4,
                                                8,
                                                10,
                                                2,
                                                1,
                                                1,
                                                3,
                                                1,
                                                1,
                                                2,
                                                1,
                                                3,
                                                1,
                                                4,
                                                7,
                                                1
                                            ]
                                        }
                                    ],
                                    "name": "1920"
                                },
                                {
                                    "data": [
                                        {
                                            "coloraxis": "coloraxis",
                                            "geo": "geo",
                                            "hovertemplate": "Decade=1930<br>Country=%{location}<br>Number of Laureates=%{z}<extra></extra>",
                                            "locationmode": "country names",
                                            "locations": [
                                                "Argentina",
                                                "Austria",
                                                "Austria-Hungary",
                                                "Austrian Empire",
                                                "Belgium",
                                                "France",
                                                "Germany",
                                                "India",
                                                "Italy",
                                                "Russia",
                                                "Russian Empire",
                                                "Scotland",
                                                "Sweden",
                                                "USA",
                                                "United Kingdom",
                                                "Württemberg",
                                                "the Netherlands"
                                            ],
                                            "name": "",
                                            "type": "choropleth",
                                            "z": [
                                                1,
                                                2,
                                                3,
                                                1,
                                                1,
                                                3,
                                                9,
                                                1,
                                                2,
                                                2,
                                                1,
                                                1,
                                                2,
                                                14,
                                                10,
                                                1,
                                                1
                                            ]
                                        }
                                    ],
                                    "name": "1930"
                                },
                                {
                                    "data": [
                                        {
                                            "coloraxis": "coloraxis",
                                            "geo": "geo",
                                            "hovertemplate": "Decade=1940<br>Country=%{location}<br>Number of Laureates=%{z}<extra></extra>",
                                            "locationmode": "country names",
                                            "locations": [
                                                "Argentina",
                                                "Australia",
                                                "Austria",
                                                "Austria-Hungary",
                                                "Canada",
                                                "Chile",
                                                "Denmark",
                                                "France",
                                                "Germany",
                                                "Japan",
                                                "Portugal",
                                                "Russian Empire",
                                                "Scotland",
                                                "Sweden",
                                                "Switzerland",
                                                "USA",
                                                "United Kingdom"
                                            ],
                                            "name": "",
                                            "type": "choropleth",
                                            "z": [
                                                1,
                                                1,
                                                1,
                                                4,
                                                1,
                                                1,
                                                2,
                                                1,
                                                4,
                                                1,
                                                1,
                                                1,
                                                2,
                                                1,
                                                2,
                                                13,
                                                3
                                            ]
                                        }
                                    ],
                                    "name": "1940"
                                },
                                {
                                    "data": [
                                        {
                                            "coloraxis": "coloraxis",
                                            "geo": "geo",
                                            "hovertemplate": "Decade=1950<br>Country=%{location}<br>Number of Laureates=%{z}<extra></extra>",
                                            "locationmode": "country names",
                                            "locations": [
                                                "Austria-Hungary",
                                                "Belgium",
                                                "Canada",
                                                "China",
                                                "France",
                                                "French Algeria",
                                                "Germany",
                                                "Iceland",
                                                "Ireland",
                                                "Italy",
                                                "Poland",
                                                "Prussia",
                                                "Russia",
                                                "Russian Empire",
                                                "Scotland",
                                                "South Africa",
                                                "Spain",
                                                "Sweden",
                                                "Switzerland",
                                                "USA",
                                                "United Kingdom",
                                                "the Netherlands"
                                            ],
                                            "name": "",
                                            "type": "choropleth",
                                            "z": [
                                                1,
                                                1,
                                                1,
                                                3,
                                                3,
                                                1,
                                                9,
                                                1,
                                                1,
                                                2,
                                                1,
                                                1,
                                                5,
                                                1,
                                                1,
                                                1,
                                                2,
                                                2,
                                                2,
                                                23,
                                                11,
                                                1
                                            ]
                                        }
                                    ],
                                    "name": "1950"
                                },
                                {
                                    "data": [
                                        {
                                            "coloraxis": "coloraxis",
                                            "geo": "geo",
                                            "hovertemplate": "Decade=1960<br>Country=%{location}<br>Number of Laureates=%{z}<extra></extra>",
                                            "locationmode": "country names",
                                            "locations": [
                                                "Australia",
                                                "Austria",
                                                "Austria-Hungary",
                                                "Bosnia",
                                                "Brazil",
                                                "Canada",
                                                "Egypt",
                                                "France",
                                                "Germany",
                                                "Guadeloupe, France",
                                                "Guatemala",
                                                "Hungary",
                                                "India",
                                                "Ireland",
                                                "Italy",
                                                "Japan",
                                                "New Zealand",
                                                "Norway",
                                                "Ottoman Empire",
                                                "Russia",
                                                "Russian Empire",
                                                "Southern Rhodesia",
                                                "Sweden",
                                                "USA",
                                                "USSR",
                                                "United Kingdom",
                                                "the Netherlands"
                                            ],
                                            "name": "",
                                            "type": "choropleth",
                                            "z": [
                                                3,
                                                1,
                                                2,
                                                1,
                                                1,
                                                1,
                                                1,
                                                5,
                                                11,
                                                1,
                                                1,
                                                1,
                                                1,
                                                1,
                                                2,
                                                2,
                                                1,
                                                3,
                                                1,
                                                1,
                                                2,
                                                1,
                                                1,
                                                22,
                                                1,
                                                7,
                                                1
                                            ]
                                        }
                                    ],
                                    "name": "1960"
                                },
                                {
                                    "data": [
                                        {
                                            "coloraxis": "coloraxis",
                                            "geo": "geo",
                                            "hovertemplate": "Decade=1970<br>Country=%{location}<br>Number of Laureates=%{z}<extra></extra>",
                                            "locationmode": "country names",
                                            "locations": [
                                                "Australia",
                                                "Austria",
                                                "Austria-Hungary",
                                                "Belgium",
                                                "British West Indies",
                                                "Canada",
                                                "Chile",
                                                "Crete",
                                                "Denmark",
                                                "Egypt",
                                                "France",
                                                "Germany",
                                                "Hungary",
                                                "India",
                                                "Italy",
                                                "Japan",
                                                "Northern Ireland",
                                                "Norway",
                                                "Ottoman Empire",
                                                "Poland",
                                                "Romania",
                                                "Russia",
                                                "Russian Empire",
                                                "South Africa",
                                                "Spain",
                                                "Sweden",
                                                "Switzerland",
                                                "USA",
                                                "United Kingdom",
                                                "Vietnam",
                                                "the Netherlands"
                                            ],
                                            "name": "",
                                            "type": "choropleth",
                                            "z": [
                                                1,
                                                3,
                                                1,
                                                1,
                                                1,
                                                1,
                                                1,
                                                1,
                                                1,
                                                1,
                                                4,
                                                8,
                                                1,
                                                1,
                                                2,
                                                2,
                                                2,
                                                1,
                                                1,
                                                1,
                                                1,
                                                4,
                                                5,
                                                1,
                                                1,
                                                6,
                                                1,
                                                34,
                                                13,
                                                1,
                                                2
                                            ]
                                        }
                                    ],
                                    "name": "1970"
                                },
                                {
                                    "data": [
                                        {
                                            "coloraxis": "coloraxis",
                                            "geo": "geo",
                                            "hovertemplate": "Decade=1980<br>Country=%{location}<br>Number of Laureates=%{z}<extra></extra>",
                                            "locationmode": "country names",
                                            "locations": [
                                                "Argentina",
                                                "Austria-Hungary",
                                                "Bulgaria",
                                                "Canada",
                                                "Colombia",
                                                "Costa Rica",
                                                "Egypt",
                                                "France",
                                                "German-occupied Poland",
                                                "Germany",
                                                "India",
                                                "Italy",
                                                "Japan",
                                                "Korea",
                                                "Lithuania",
                                                "Madagascar",
                                                "Mexico",
                                                "Nigeria",
                                                "Norway",
                                                "Poland",
                                                "Prussia",
                                                "Romania",
                                                "Russian Empire",
                                                "Scotland",
                                                "South Africa",
                                                "Spain",
                                                "Sweden",
                                                "Switzerland",
                                                "Taiwan",
                                                "Tibet",
                                                "USA",
                                                "USSR",
                                                "United Kingdom",
                                                "Venezuela",
                                                "West Germany",
                                                "the Netherlands"
                                            ],
                                            "name": "",
                                            "type": "choropleth",
                                            "z": [
                                                2,
                                                1,
                                                1,
                                                3,
                                                1,
                                                1,
                                                1,
                                                4,
                                                1,
                                                7,
                                                1,
                                                3,
                                                2,
                                                1,
                                                1,
                                                1,
                                                1,
                                                1,
                                                1,
                                                2,
                                                1,
                                                1,
                                                1,
                                                1,
                                                1,
                                                1,
                                                5,
                                                2,
                                                1,
                                                1,
                                                31,
                                                1,
                                                6,
                                                1,
                                                3,
                                                2
                                            ]
                                        }
                                    ],
                                    "name": "1980"
                                },
                                {
                                    "data": [
                                        {
                                            "coloraxis": "coloraxis",
                                            "geo": "geo",
                                            "hovertemplate": "Decade=1990<br>Country=%{location}<br>Number of Laureates=%{z}<extra></extra>",
                                            "locationmode": "country names",
                                            "locations": [
                                                "Australia",
                                                "Austria",
                                                "British Mandate of Palestine",
                                                "Burma",
                                                "Canada",
                                                "China",
                                                "Denmark",
                                                "East Timor",
                                                "Egypt",
                                                "France",
                                                "Free City of Danzig",
                                                "French Algeria",
                                                "Germany",
                                                "Guatemala",
                                                "Hungary",
                                                "India",
                                                "Italy",
                                                "Japan",
                                                "Mexico",
                                                "Northern Ireland",
                                                "Poland",
                                                "Portugal",
                                                "Russian Empire",
                                                "Saint Lucia",
                                                "Scotland",
                                                "South Africa",
                                                "Switzerland",
                                                "USA",
                                                "USSR",
                                                "United Kingdom",
                                                "West Germany",
                                                "the Netherlands"
                                            ],
                                            "name": "",
                                            "type": "choropleth",
                                            "z": [
                                                1,
                                                1,
                                                1,
                                                1,
                                                6,
                                                2,
                                                1,
                                                2,
                                                2,
                                                1,
                                                1,
                                                1,
                                                5,
                                                1,
                                                2,
                                                1,
                                                1,
                                                1,
                                                2,
                                                3,
                                                3,
                                                1,
                                                1,
                                                1,
                                                1,
                                                3,
                                                2,
                                                42,
                                                1,
                                                6,
                                                1,
                                                3
                                            ]
                                        }
                                    ],
                                    "name": "1990"
                                },
                                {
                                    "data": [
                                        {
                                            "coloraxis": "coloraxis",
                                            "geo": "geo",
                                            "hovertemplate": "Decade=2000<br>Country=%{location}<br>Number of Laureates=%{z}<extra></extra>",
                                            "locationmode": "country names",
                                            "locations": [
                                                "Australia",
                                                "Austria",
                                                "Belgium",
                                                "British India",
                                                "British Mandate of Palestine",
                                                "British Protectorate of Palestine",
                                                "Canada",
                                                "China",
                                                "Czechoslovakia",
                                                "Egypt",
                                                "Finland",
                                                "France",
                                                "Germany",
                                                "Gold Coast",
                                                "Hungary",
                                                "India",
                                                "Iran",
                                                "Italy",
                                                "Japan",
                                                "Kenya",
                                                "Korea",
                                                "New Zealand",
                                                "Norway",
                                                "Persia",
                                                "Romania",
                                                "Russia",
                                                "South Africa",
                                                "Sweden",
                                                "Switzerland",
                                                "Trinidad and Tobago",
                                                "Turkey",
                                                "USA",
                                                "USSR",
                                                "United Kingdom",
                                                "West Germany"
                                            ],
                                            "name": "",
                                            "type": "choropleth",
                                            "z": [
                                                3,
                                                2,
                                                1,
                                                1,
                                                2,
                                                1,
                                                1,
                                                2,
                                                1,
                                                1,
                                                1,
                                                4,
                                                5,
                                                1,
                                                2,
                                                1,
                                                1,
                                                2,
                                                8,
                                                1,
                                                1,
                                                1,
                                                1,
                                                1,
                                                1,
                                                2,
                                                2,
                                                1,
                                                1,
                                                1,
                                                1,
                                                53,
                                                2,
                                                10,
                                                1
                                            ]
                                        }
                                    ],
                                    "name": "2000"
                                },
                                {
                                    "data": [
                                        {
                                            "coloraxis": "coloraxis",
                                            "geo": "geo",
                                            "hovertemplate": "Decade=2010<br>Country=%{location}<br>Number of Laureates=%{z}<extra></extra>",
                                            "locationmode": "country names",
                                            "locations": [
                                                "Austria",
                                                "Belgian Congo",
                                                "Belgium",
                                                "British Mandate of Palestine",
                                                "Canada",
                                                "China",
                                                "Colombia",
                                                "Cyprus",
                                                "Ethiopia",
                                                "Finland",
                                                "France",
                                                "Germany",
                                                "India",
                                                "Iraq",
                                                "Ireland",
                                                "Japan",
                                                "Liberia",
                                                "Luxembourg",
                                                "Morocco",
                                                "Norway",
                                                "Pakistan",
                                                "Peru",
                                                "Poland",
                                                "Romania",
                                                "Russia",
                                                "Scotland",
                                                "South Africa",
                                                "Sweden",
                                                "Switzerland",
                                                "Tunisia",
                                                "Turkey",
                                                "USA",
                                                "Ukraine",
                                                "United Kingdom",
                                                "Yemen",
                                                "the Netherlands"
                                            ],
                                            "name": "",
                                            "type": "choropleth",
                                            "z": [
                                                2,
                                                1,
                                                1,
                                                2,
                                                5,
                                                4,
                                                1,
                                                1,
                                                1,
                                                1,
                                                5,
                                                4,
                                                2,
                                                1,
                                                1,
                                                11,
                                                2,
                                                1,
                                                1,
                                                2,
                                                1,
                                                1,
                                                1,
                                                1,
                                                2,
                                                2,
                                                1,
                                                2,
                                                3,
                                                1,
                                                1,
                                                39,
                                                1,
                                                11,
                                                1,
                                                1
                                            ]
                                        }
                                    ],
                                    "name": "2010"
                                },
                                {
                                    "data": [
                                        {
                                            "coloraxis": "coloraxis",
                                            "geo": "geo",
                                            "hovertemplate": "Decade=2020<br>Country=%{location}<br>Number of Laureates=%{z}<extra></extra>",
                                            "locationmode": "country names",
                                            "locations": [
                                                "Austria",
                                                "Canada",
                                                "Denmark",
                                                "France",
                                                "French protectorate of Tunisia",
                                                "Germany",
                                                "Hungary",
                                                "Iran",
                                                "Italy",
                                                "Japan",
                                                "Lebanon",
                                                "Norway",
                                                "Philippines",
                                                "Russia",
                                                "South Korea",
                                                "Sweden",
                                                "Turkey",
                                                "USA",
                                                "USSR",
                                                "United Kingdom",
                                                "the Netherlands"
                                            ],
                                            "name": "",
                                            "type": "choropleth",
                                            "z": [
                                                1,
                                                1,
                                                1,
                                                5,
                                                1,
                                                3,
                                                2,
                                                1,
                                                1,
                                                1,
                                                1,
                                                1,
                                                1,
                                                1,
                                                1,
                                                1,
                                                1,
                                                24,
                                                2,
                                                6,
                                                1
                                            ]
                                        }
                                    ],
                                    "name": "2020"
                                }
                            ],
                            "layout": {
                                "coloraxis": {
                                    "colorbar": {
                                        "title": {
                                            "text": "Number of Laureates"
                                        }
                                    },
                                    "colorscale": [
                                        [
                                            0,
                                            "#440154"
                                        ],
                                        [
                                            0.1111111111111111,
                                            "#482878"
                                        ],
                                        [
                                            0.2222222222222222,
                                            "#3e4989"
                                        ],
                                        [
                                            0.3333333333333333,
                                            "#31688e"
                                        ],
                                        [
                                            0.4444444444444444,
                                            "#26828e"
                                        ],
                                        [
                                            0.5555555555555556,
                                            "#1f9e89"
                                        ],
                                        [
                                            0.6666666666666666,
                                            "#35b779"
                                        ],
                                        [
                                            0.7777777777777778,
                                            "#6ece58"
                                        ],
                                        [
                                            0.8888888888888888,
                                            "#b5de2b"
                                        ],
                                        [
                                            1,
                                            "#fde725"
                                        ]
                                    ]
                                },
                                "geo": {
                                    "center": {},
                                    "domain": {
                                        "x": [
                                            0,
                                            1
                                        ],
                                        "y": [
                                            0,
                                            1
                                        ]
                                    }
                                },
                                "legend": {
                                    "tracegroupgap": 0
                                },
                                "sliders": [
                                    {
                                        "active": 0,
                                        "currentvalue": {
                                            "prefix": "Decade="
                                        },
                                        "len": 0.9,
                                        "pad": {
                                            "b": 10,
                                            "t": 60
                                        },
                                        "steps": [
                                            {
                                                "args": [
                                                    [
                                                        "1900"
                                                    ],
                                                    {
                                                        "frame": {
                                                            "duration": 0,
                                                            "redraw": true
                                                        },
                                                        "fromcurrent": true,
                                                        "mode": "immediate",
                                                        "transition": {
                                                            "duration": 0,
                                                            "easing": "linear"
                                                        }
                                                    }
                                                ],
                                                "label": "1900",
                                                "method": "animate"
                                            },
                                            {
                                                "args": [
                                                    [
                                                        "1910"
                                                    ],
                                                    {
                                                        "frame": {
                                                            "duration": 0,
                                                            "redraw": true
                                                        },
                                                        "fromcurrent": true,
                                                        "mode": "immediate",
                                                        "transition": {
                                                            "duration": 0,
                                                            "easing": "linear"
                                                        }
                                                    }
                                                ],
                                                "label": "1910",
                                                "method": "animate"
                                            },
                                            {
                                                "args": [
                                                    [
                                                        "1920"
                                                    ],
                                                    {
                                                        "frame": {
                                                            "duration": 0,
                                                            "redraw": true
                                                        },
                                                        "fromcurrent": true,
                                                        "mode": "immediate",
                                                        "transition": {
                                                            "duration": 0,
                                                            "easing": "linear"
                                                        }
                                                    }
                                                ],
                                                "label": "1920",
                                                "method": "animate"
                                            },
                                            {
                                                "args": [
                                                    [
                                                        "1930"
                                                    ],
                                                    {
                                                        "frame": {
                                                            "duration": 0,
                                                            "redraw": true
                                                        },
                                                        "fromcurrent": true,
                                                        "mode": "immediate",
                                                        "transition": {
                                                            "duration": 0,
                                                            "easing": "linear"
                                                        }
                                                    }
                                                ],
                                                "label": "1930",
                                                "method": "animate"
                                            },
                                            {
                                                "args": [
                                                    [
                                                        "1940"
                                                    ],
                                                    {
                                                        "frame": {
                                                            "duration": 0,
                                                            "redraw": true
                                                        },
                                                        "fromcurrent": true,
                                                        "mode": "immediate",
                                                        "transition": {
                                                            "duration": 0,
                                                            "easing": "linear"
                                                        }
                                                    }
                                                ],
                                                "label": "1940",
                                                "method": "animate"
                                            },
                                            {
                                                "args": [
                                                    [
                                                        "1950"
                                                    ],
                                                    {
                                                        "frame": {
                                                            "duration": 0,
                                                            "redraw": true
                                                        },
                                                        "fromcurrent": true,
                                                        "mode": "immediate",
                                                        "transition": {
                                                            "duration": 0,
                                                            "easing": "linear"
                                                        }
                                                    }
                                                ],
                                                "label": "1950",
                                                "method": "animate"
                                            },
                                            {
                                                "args": [
                                                    [
                                                        "1960"
                                                    ],
                                                    {
                                                        "frame": {
                                                            "duration": 0,
                                                            "redraw": true
                                                        },
                                                        "fromcurrent": true,
                                                        "mode": "immediate",
                                                        "transition": {
                                                            "duration": 0,
                                                            "easing": "linear"
                                                        }
                                                    }
                                                ],
                                                "label": "1960",
                                                "method": "animate"
                                            },
                                            {
                                                "args": [
                                                    [
                                                        "1970"
                                                    ],
                                                    {
                                                        "frame": {
                                                            "duration": 0,
                                                            "redraw": true
                                                        },
                                                        "fromcurrent": true,
                                                        "mode": "immediate",
                                                        "transition": {
                                                            "duration": 0,
                                                            "easing": "linear"
                                                        }
                                                    }
                                                ],
                                                "label": "1970",
                                                "method": "animate"
                                            },
                                            {
                                                "args": [
                                                    [
                                                        "1980"
                                                    ],
                                                    {
                                                        "frame": {
                                                            "duration": 0,
                                                            "redraw": true
                                                        },
                                                        "fromcurrent": true,
                                                        "mode": "immediate",
                                                        "transition": {
                                                            "duration": 0,
                                                            "easing": "linear"
                                                        }
                                                    }
                                                ],
                                                "label": "1980",
                                                "method": "animate"
                                            },
                                            {
                                                "args": [
                                                    [
                                                        "1990"
                                                    ],
                                                    {
                                                        "frame": {
                                                            "duration": 0,
                                                            "redraw": true
                                                        },
                                                        "fromcurrent": true,
                                                        "mode": "immediate",
                                                        "transition": {
                                                            "duration": 0,
                                                            "easing": "linear"
                                                        }
                                                    }
                                                ],
                                                "label": "1990",
                                                "method": "animate"
                                            },
                                            {
                                                "args": [
                                                    [
                                                        "2000"
                                                    ],
                                                    {
                                                        "frame": {
                                                            "duration": 0,
                                                            "redraw": true
                                                        },
                                                        "fromcurrent": true,
                                                        "mode": "immediate",
                                                        "transition": {
                                                            "duration": 0,
                                                            "easing": "linear"
                                                        }
                                                    }
                                                ],
                                                "label": "2000",
                                                "method": "animate"
                                            },
                                            {
                                                "args": [
                                                    [
                                                        "2010"
                                                    ],
                                                    {
                                                        "frame": {
                                                            "duration": 0,
                                                            "redraw": true
                                                        },
                                                        "fromcurrent": true,
                                                        "mode": "immediate",
                                                        "transition": {
                                                            "duration": 0,
                                                            "easing": "linear"
                                                        }
                                                    }
                                                ],
                                                "label": "2010",
                                                "method": "animate"
                                            },
                                            {
                                                "args": [
                                                    [
                                                        "2020"
                                                    ],
                                                    {
                                                        "frame": {
                                                            "duration": 0,
                                                            "redraw": true
                                                        },
                                                        "fromcurrent": true,
                                                        "mode": "immediate",
                                                        "transition": {
                                                            "duration": 0,
                                                            "easing": "linear"
                                                        }
                                                    }
                                                ],
                                                "label": "2020",
                                                "method": "animate"
                                            }
                                        ],
                                        "x": 0.1,
                                        "xanchor": "left",
                                        "y": 0,
                                        "yanchor": "top"
                                    }
                                ],
                                "template": {
                                    "data": {
                                        "bar": [
                                            {
                                                "error_x": {
                                                    "color": "#2a3f5f"
                                                },
                                                "error_y": {
                                                    "color": "#2a3f5f"
                                                },
                                                "marker": {
                                                    "line": {
                                                        "color": "#E5ECF6",
                                                        "width": 0.5
                                                    },
                                                    "pattern": {
                                                        "fillmode": "overlay",
                                                        "size": 10,
                                                        "solidity": 0.2
                                                    }
                                                },
                                                "type": "bar"
                                            }
                                        ],
                                        "barpolar": [
                                            {
                                                "marker": {
                                                    "line": {
                                                        "color": "#E5ECF6",
                                                        "width": 0.5
                                                    },
                                                    "pattern": {
                                                        "fillmode": "overlay",
                                                        "size": 10,
                                                        "solidity": 0.2
                                                    }
                                                },
                                                "type": "barpolar"
                                            }
                                        ],
                                        "carpet": [
                                            {
                                                "aaxis": {
                                                    "endlinecolor": "#2a3f5f",
                                                    "gridcolor": "white",
                                                    "linecolor": "white",
                                                    "minorgridcolor": "white",
                                                    "startlinecolor": "#2a3f5f"
                                                },
                                                "baxis": {
                                                    "endlinecolor": "#2a3f5f",
                                                    "gridcolor": "white",
                                                    "linecolor": "white",
                                                    "minorgridcolor": "white",
                                                    "startlinecolor": "#2a3f5f"
                                                },
                                                "type": "carpet"
                                            }
                                        ],
                                        "choropleth": [
                                            {
                                                "colorbar": {
                                                    "outlinewidth": 0,
                                                    "ticks": ""
                                                },
                                                "type": "choropleth"
                                            }
                                        ],
                                        "contour": [
                                            {
                                                "colorbar": {
                                                    "outlinewidth": 0,
                                                    "ticks": ""
                                                },
                                                "colorscale": [
                                                    [
                                                        0,
                                                        "#0d0887"
                                                    ],
                                                    [
                                                        0.1111111111111111,
                                                        "#46039f"
                                                    ],
                                                    [
                                                        0.2222222222222222,
                                                        "#7201a8"
                                                    ],
                                                    [
                                                        0.3333333333333333,
                                                        "#9c179e"
                                                    ],
                                                    [
                                                        0.4444444444444444,
                                                        "#bd3786"
                                                    ],
                                                    [
                                                        0.5555555555555556,
                                                        "#d8576b"
                                                    ],
                                                    [
                                                        0.6666666666666666,
                                                        "#ed7953"
                                                    ],
                                                    [
                                                        0.7777777777777778,
                                                        "#fb9f3a"
                                                    ],
                                                    [
                                                        0.8888888888888888,
                                                        "#fdca26"
                                                    ],
                                                    [
                                                        1,
                                                        "#f0f921"
                                                    ]
                                                ],
                                                "type": "contour"
                                            }
                                        ],
                                        "contourcarpet": [
                                            {
                                                "colorbar": {
                                                    "outlinewidth": 0,
                                                    "ticks": ""
                                                },
                                                "type": "contourcarpet"
                                            }
                                        ],
                                        "heatmap": [
                                            {
                                                "colorbar": {
                                                    "outlinewidth": 0,
                                                    "ticks": ""
                                                },
                                                "colorscale": [
                                                    [
                                                        0,
                                                        "#0d0887"
                                                    ],
                                                    [
                                                        0.1111111111111111,
                                                        "#46039f"
                                                    ],
                                                    [
                                                        0.2222222222222222,
                                                        "#7201a8"
                                                    ],
                                                    [
                                                        0.3333333333333333,
                                                        "#9c179e"
                                                    ],
                                                    [
                                                        0.4444444444444444,
                                                        "#bd3786"
                                                    ],
                                                    [
                                                        0.5555555555555556,
                                                        "#d8576b"
                                                    ],
                                                    [
                                                        0.6666666666666666,
                                                        "#ed7953"
                                                    ],
                                                    [
                                                        0.7777777777777778,
                                                        "#fb9f3a"
                                                    ],
                                                    [
                                                        0.8888888888888888,
                                                        "#fdca26"
                                                    ],
                                                    [
                                                        1,
                                                        "#f0f921"
                                                    ]
                                                ],
                                                "type": "heatmap"
                                            }
                                        ],
                                        "heatmapgl": [
                                            {
                                                "colorbar": {
                                                    "outlinewidth": 0,
                                                    "ticks": ""
                                                },
                                                "colorscale": [
                                                    [
                                                        0,
                                                        "#0d0887"
                                                    ],
                                                    [
                                                        0.1111111111111111,
                                                        "#46039f"
                                                    ],
                                                    [
                                                        0.2222222222222222,
                                                        "#7201a8"
                                                    ],
                                                    [
                                                        0.3333333333333333,
                                                        "#9c179e"
                                                    ],
                                                    [
                                                        0.4444444444444444,
                                                        "#bd3786"
                                                    ],
                                                    [
                                                        0.5555555555555556,
                                                        "#d8576b"
                                                    ],
                                                    [
                                                        0.6666666666666666,
                                                        "#ed7953"
                                                    ],
                                                    [
                                                        0.7777777777777778,
                                                        "#fb9f3a"
                                                    ],
                                                    [
                                                        0.8888888888888888,
                                                        "#fdca26"
                                                    ],
                                                    [
                                                        1,
                                                        "#f0f921"
                                                    ]
                                                ],
                                                "type": "heatmapgl"
                                            }
                                        ],
                                        "histogram": [
                                            {
                                                "marker": {
                                                    "pattern": {
                                                        "fillmode": "overlay",
                                                        "size": 10,
                                                        "solidity": 0.2
                                                    }
                                                },
                                                "type": "histogram"
                                            }
                                        ],
                                        "histogram2d": [
                                            {
                                                "colorbar": {
                                                    "outlinewidth": 0,
                                                    "ticks": ""
                                                },
                                                "colorscale": [
                                                    [
                                                        0,
                                                        "#0d0887"
                                                    ],
                                                    [
                                                        0.1111111111111111,
                                                        "#46039f"
                                                    ],
                                                    [
                                                        0.2222222222222222,
                                                        "#7201a8"
                                                    ],
                                                    [
                                                        0.3333333333333333,
                                                        "#9c179e"
                                                    ],
                                                    [
                                                        0.4444444444444444,
                                                        "#bd3786"
                                                    ],
                                                    [
                                                        0.5555555555555556,
                                                        "#d8576b"
                                                    ],
                                                    [
                                                        0.6666666666666666,
                                                        "#ed7953"
                                                    ],
                                                    [
                                                        0.7777777777777778,
                                                        "#fb9f3a"
                                                    ],
                                                    [
                                                        0.8888888888888888,
                                                        "#fdca26"
                                                    ],
                                                    [
                                                        1,
                                                        "#f0f921"
                                                    ]
                                                ],
                                                "type": "histogram2d"
                                            }
                                        ],
                                        "histogram2dcontour": [
                                            {
                                                "colorbar": {
                                                    "outlinewidth": 0,
                                                    "ticks": ""
                                                },
                                                "colorscale": [
                                                    [
                                                        0,
                                                        "#0d0887"
                                                    ],
                                                    [
                                                        0.1111111111111111,
                                                        "#46039f"
                                                    ],
                                                    [
                                                        0.2222222222222222,
                                                        "#7201a8"
                                                    ],
                                                    [
                                                        0.3333333333333333,
                                                        "#9c179e"
                                                    ],
                                                    [
                                                        0.4444444444444444,
                                                        "#bd3786"
                                                    ],
                                                    [
                                                        0.5555555555555556,
                                                        "#d8576b"
                                                    ],
                                                    [
                                                        0.6666666666666666,
                                                        "#ed7953"
                                                    ],
                                                    [
                                                        0.7777777777777778,
                                                        "#fb9f3a"
                                                    ],
                                                    [
                                                        0.8888888888888888,
                                                        "#fdca26"
                                                    ],
                                                    [
                                                        1,
                                                        "#f0f921"
                                                    ]
                                                ],
                                                "type": "histogram2dcontour"
                                            }
                                        ],
                                        "mesh3d": [
                                            {
                                                "colorbar": {
                                                    "outlinewidth": 0,
                                                    "ticks": ""
                                                },
                                                "type": "mesh3d"
                                            }
                                        ],
                                        "parcoords": [
                                            {
                                                "line": {
                                                    "colorbar": {
                                                        "outlinewidth": 0,
                                                        "ticks": ""
                                                    }
                                                },
                                                "type": "parcoords"
                                            }
                                        ],
                                        "pie": [
                                            {
                                                "automargin": true,
                                                "type": "pie"
                                            }
                                        ],
                                        "scatter": [
                                            {
                                                "fillpattern": {
                                                    "fillmode": "overlay",
                                                    "size": 10,
                                                    "solidity": 0.2
                                                },
                                                "type": "scatter"
                                            }
                                        ],
                                        "scatter3d": [
                                            {
                                                "line": {
                                                    "colorbar": {
                                                        "outlinewidth": 0,
                                                        "ticks": ""
                                                    }
                                                },
                                                "marker": {
                                                    "colorbar": {
                                                        "outlinewidth": 0,
                                                        "ticks": ""
                                                    }
                                                },
                                                "type": "scatter3d"
                                            }
                                        ],
                                        "scattercarpet": [
                                            {
                                                "marker": {
                                                    "colorbar": {
                                                        "outlinewidth": 0,
                                                        "ticks": ""
                                                    }
                                                },
                                                "type": "scattercarpet"
                                            }
                                        ],
                                        "scattergeo": [
                                            {
                                                "marker": {
                                                    "colorbar": {
                                                        "outlinewidth": 0,
                                                        "ticks": ""
                                                    }
                                                },
                                                "type": "scattergeo"
                                            }
                                        ],
                                        "scattergl": [
                                            {
                                                "marker": {
                                                    "colorbar": {
                                                        "outlinewidth": 0,
                                                        "ticks": ""
                                                    }
                                                },
                                                "type": "scattergl"
                                            }
                                        ],
                                        "scattermapbox": [
                                            {
                                                "marker": {
                                                    "colorbar": {
                                                        "outlinewidth": 0,
                                                        "ticks": ""
                                                    }
                                                },
                                                "type": "scattermapbox"
                                            }
                                        ],
                                        "scatterpolar": [
                                            {
                                                "marker": {
                                                    "colorbar": {
                                                        "outlinewidth": 0,
                                                        "ticks": ""
                                                    }
                                                },
                                                "type": "scatterpolar"
                                            }
                                        ],
                                        "scatterpolargl": [
                                            {
                                                "marker": {
                                                    "colorbar": {
                                                        "outlinewidth": 0,
                                                        "ticks": ""
                                                    }
                                                },
                                                "type": "scatterpolargl"
                                            }
                                        ],
                                        "scatterternary": [
                                            {
                                                "marker": {
                                                    "colorbar": {
                                                        "outlinewidth": 0,
                                                        "ticks": ""
                                                    }
                                                },
                                                "type": "scatterternary"
                                            }
                                        ],
                                        "surface": [
                                            {
                                                "colorbar": {
                                                    "outlinewidth": 0,
                                                    "ticks": ""
                                                },
                                                "colorscale": [
                                                    [
                                                        0,
                                                        "#0d0887"
                                                    ],
                                                    [
                                                        0.1111111111111111,
                                                        "#46039f"
                                                    ],
                                                    [
                                                        0.2222222222222222,
                                                        "#7201a8"
                                                    ],
                                                    [
                                                        0.3333333333333333,
                                                        "#9c179e"
                                                    ],
                                                    [
                                                        0.4444444444444444,
                                                        "#bd3786"
                                                    ],
                                                    [
                                                        0.5555555555555556,
                                                        "#d8576b"
                                                    ],
                                                    [
                                                        0.6666666666666666,
                                                        "#ed7953"
                                                    ],
                                                    [
                                                        0.7777777777777778,
                                                        "#fb9f3a"
                                                    ],
                                                    [
                                                        0.8888888888888888,
                                                        "#fdca26"
                                                    ],
                                                    [
                                                        1,
                                                        "#f0f921"
                                                    ]
                                                ],
                                                "type": "surface"
                                            }
                                        ],
                                        "table": [
                                            {
                                                "cells": {
                                                    "fill": {
                                                        "color": "#EBF0F8"
                                                    },
                                                    "line": {
                                                        "color": "white"
                                                    }
                                                },
                                                "header": {
                                                    "fill": {
                                                        "color": "#C8D4E3"
                                                    },
                                                    "line": {
                                                        "color": "white"
                                                    }
                                                },
                                                "type": "table"
                                            }
                                        ]
                                    },
                                    "layout": {
                                        "annotationdefaults": {
                                            "arrowcolor": "#2a3f5f",
                                            "arrowhead": 0,
                                            "arrowwidth": 1
                                        },
                                        "autotypenumbers": "strict",
                                        "coloraxis": {
                                            "colorbar": {
                                                "outlinewidth": 0,
                                                "ticks": ""
                                            }
                                        },
                                        "colorscale": {
                                            "diverging": [
                                                [
                                                    0,
                                                    "#8e0152"
                                                ],
                                                [
                                                    0.1,
                                                    "#c51b7d"
                                                ],
                                                [
                                                    0.2,
                                                    "#de77ae"
                                                ],
                                                [
                                                    0.3,
                                                    "#f1b6da"
                                                ],
                                                [
                                                    0.4,
                                                    "#fde0ef"
                                                ],
                                                [
                                                    0.5,
                                                    "#f7f7f7"
                                                ],
                                                [
                                                    0.6,
                                                    "#e6f5d0"
                                                ],
                                                [
                                                    0.7,
                                                    "#b8e186"
                                                ],
                                                [
                                                    0.8,
                                                    "#7fbc41"
                                                ],
                                                [
                                                    0.9,
                                                    "#4d9221"
                                                ],
                                                [
                                                    1,
                                                    "#276419"
                                                ]
                                            ],
                                            "sequential": [
                                                [
                                                    0,
                                                    "#0d0887"
                                                ],
                                                [
                                                    0.1111111111111111,
                                                    "#46039f"
                                                ],
                                                [
                                                    0.2222222222222222,
                                                    "#7201a8"
                                                ],
                                                [
                                                    0.3333333333333333,
                                                    "#9c179e"
                                                ],
                                                [
                                                    0.4444444444444444,
                                                    "#bd3786"
                                                ],
                                                [
                                                    0.5555555555555556,
                                                    "#d8576b"
                                                ],
                                                [
                                                    0.6666666666666666,
                                                    "#ed7953"
                                                ],
                                                [
                                                    0.7777777777777778,
                                                    "#fb9f3a"
                                                ],
                                                [
                                                    0.8888888888888888,
                                                    "#fdca26"
                                                ],
                                                [
                                                    1,
                                                    "#f0f921"
                                                ]
                                            ],
                                            "sequentialminus": [
                                                [
                                                    0,
                                                    "#0d0887"
                                                ],
                                                [
                                                    0.1111111111111111,
                                                    "#46039f"
                                                ],
                                                [
                                                    0.2222222222222222,
                                                    "#7201a8"
                                                ],
                                                [
                                                    0.3333333333333333,
                                                    "#9c179e"
                                                ],
                                                [
                                                    0.4444444444444444,
                                                    "#bd3786"
                                                ],
                                                [
                                                    0.5555555555555556,
                                                    "#d8576b"
                                                ],
                                                [
                                                    0.6666666666666666,
                                                    "#ed7953"
                                                ],
                                                [
                                                    0.7777777777777778,
                                                    "#fb9f3a"
                                                ],
                                                [
                                                    0.8888888888888888,
                                                    "#fdca26"
                                                ],
                                                [
                                                    1,
                                                    "#f0f921"
                                                ]
                                            ]
                                        },
                                        "colorway": [
                                            "#636efa",
                                            "#EF553B",
                                            "#00cc96",
                                            "#ab63fa",
                                            "#FFA15A",
                                            "#19d3f3",
                                            "#FF6692",
                                            "#B6E880",
                                            "#FF97FF",
                                            "#FECB52"
                                        ],
                                        "font": {
                                            "color": "#2a3f5f"
                                        },
                                        "geo": {
                                            "bgcolor": "white",
                                            "lakecolor": "white",
                                            "landcolor": "#E5ECF6",
                                            "showlakes": true,
                                            "showland": true,
                                            "subunitcolor": "white"
                                        },
                                        "hoverlabel": {
                                            "align": "left"
                                        },
                                        "hovermode": "closest",
                                        "mapbox": {
                                            "style": "light"
                                        },
                                        "paper_bgcolor": "white",
                                        "plot_bgcolor": "#E5ECF6",
                                        "polar": {
                                            "angularaxis": {
                                                "gridcolor": "white",
                                                "linecolor": "white",
                                                "ticks": ""
                                            },
                                            "bgcolor": "#E5ECF6",
                                            "radialaxis": {
                                                "gridcolor": "white",
                                                "linecolor": "white",
                                                "ticks": ""
                                            }
                                        },
                                        "scene": {
                                            "xaxis": {
                                                "backgroundcolor": "#E5ECF6",
                                                "gridcolor": "white",
                                                "gridwidth": 2,
                                                "linecolor": "white",
                                                "showbackground": true,
                                                "ticks": "",
                                                "zerolinecolor": "white"
                                            },
                                            "yaxis": {
                                                "backgroundcolor": "#E5ECF6",
                                                "gridcolor": "white",
                                                "gridwidth": 2,
                                                "linecolor": "white",
                                                "showbackground": true,
                                                "ticks": "",
                                                "zerolinecolor": "white"
                                            },
                                            "zaxis": {
                                                "backgroundcolor": "#E5ECF6",
                                                "gridcolor": "white",
                                                "gridwidth": 2,
                                                "linecolor": "white",
                                                "showbackground": true,
                                                "ticks": "",
                                                "zerolinecolor": "white"
                                            }
                                        },
                                        "shapedefaults": {
                                            "line": {
                                                "color": "#2a3f5f"
                                            }
                                        },
                                        "ternary": {
                                            "aaxis": {
                                                "gridcolor": "white",
                                                "linecolor": "white",
                                                "ticks": ""
                                            },
                                            "baxis": {
                                                "gridcolor": "white",
                                                "linecolor": "white",
                                                "ticks": ""
                                            },
                                            "bgcolor": "#E5ECF6",
                                            "caxis": {
                                                "gridcolor": "white",
                                                "linecolor": "white",
                                                "ticks": ""
                                            }
                                        },
                                        "title": {
                                            "x": 0.05
                                        },
                                        "xaxis": {
                                            "automargin": true,
                                            "gridcolor": "white",
                                            "linecolor": "white",
                                            "ticks": "",
                                            "title": {
                                                "standoff": 15
                                            },
                                            "zerolinecolor": "white",
                                            "zerolinewidth": 2
                                        },
                                        "yaxis": {
                                            "automargin": true,
                                            "gridcolor": "white",
                                            "linecolor": "white",
                                            "ticks": "",
                                            "title": {
                                                "standoff": 15
                                            },
                                            "zerolinecolor": "white",
                                            "zerolinewidth": 2
                                        }
                                    }
                                },
                                "title": {
                                    "text": "Geographical Distribution of Nobel Laureates Over Time"
                                },
                                "updatemenus": [
                                    {
                                        "buttons": [
                                            {
                                                "args": [
                                                    null,
                                                    {
                                                        "frame": {
                                                            "duration": 500,
                                                            "redraw": true
                                                        },
                                                        "fromcurrent": true,
                                                        "mode": "immediate",
                                                        "transition": {
                                                            "duration": 500,
                                                            "easing": "linear"
                                                        }
                                                    }
                                                ],
                                                "label": "&#9654;",
                                                "method": "animate"
                                            },
                                            {
                                                "args": [
                                                    [
                                                        null
                                                    ],
                                                    {
                                                        "frame": {
                                                            "duration": 0,
                                                            "redraw": true
                                                        },
                                                        "fromcurrent": true,
                                                        "mode": "immediate",
                                                        "transition": {
                                                            "duration": 0,
                                                            "easing": "linear"
                                                        }
                                                    }
                                                ],
                                                "label": "&#9724;",
                                                "method": "animate"
                                            }
                                        ],
                                        "direction": "left",
                                        "pad": {
                                            "r": 10,
                                            "t": 70
                                        },
                                        "showactive": false,
                                        "type": "buttons",
                                        "x": 0.1,
                                        "xanchor": "right",
                                        "y": 0,
                                        "yanchor": "top"
                                    }
                                ]
                            }
                        }
                    },
                    "metadata": {},
                    "output_type": "display_data"
                }
            ],
            "source": [
                "def extract_decade(year):\n",
                "    return (year // 10) * 10\n",
                "\n",
                "nobel_df['Decade'] = nobel_df['awardYear'].apply(extract_decade)\n",
                "\n",
                "\n",
                "gender_trends = nobel_df.groupby(['Decade', 'gender']).size().reset_index(name='Count')\n",
                "\n",
                "\n",
                "fig_gender = px.line(\n",
                "    gender_trends,\n",
                "    x=\"Decade\",\n",
                "    y=\"Count\",\n",
                "    color=\"gender\",\n",
                "    title=\"Gender Distribution of Nobel Laureates Over Time\",\n",
                "    labels={\"Decade\": \"Decade\", \"Count\": \"Number of Laureates\", \"gender\": \"Gender\"}\n",
                ")\n",
                "fig_gender.show()\n",
                "\n",
                "\n",
                "geo_trends = nobel_df.groupby(['Decade', 'birth_place_country']).size().reset_index(name='Count')\n",
                "geo_trends.columns = ['Decade', 'Country', 'Count']\n",
                "\n",
                "\n",
                "fig_geo = px.choropleth(\n",
                "    geo_trends,\n",
                "    locations=\"Country\",\n",
                "    locationmode=\"country names\",\n",
                "    color=\"Count\",\n",
                "    animation_frame=\"Decade\",\n",
                "    color_continuous_scale=\"Viridis\",\n",
                "    title=\"Geographical Distribution of Nobel Laureates Over Time\",\n",
                "    labels={\"Count\": \"Number of Laureates\", \"Country\": \"Country\"}\n",
                ")\n",
                "fig_geo.show()\n",
                "fig_gender.write_image(\"figure_gender.png\")  \n",
                "fig_geo.write_image(\"figure_geo.png\")\n"
            ]
        },
        {
            "cell_type": "markdown",
            "metadata": {},
            "source": [
                "![Gender Distribution](figure_gender.png)\n",
                "\n",
                "---\n",
                "![Geographic Distribution](figure_geo.png)"
            ]
        },
        {
            "cell_type": "code",
            "execution_count": 14,
            "metadata": {},
            "outputs": [
                {
                    "name": "stderr",
                    "output_type": "stream",
                    "text": [
                        "/Users/saniyabekova/miniconda3/lib/python3.12/site-packages/bar_chart_race/_make_chart.py:889: FutureWarning:\n",
                        "\n",
                        "Series.fillna with 'method' is deprecated and will raise in a future version. Use obj.ffill() or obj.bfill() instead.\n",
                        "\n",
                        "/Users/saniyabekova/miniconda3/lib/python3.12/site-packages/bar_chart_race/_make_chart.py:286: UserWarning:\n",
                        "\n",
                        "set_ticklabels() should only be used with a fixed number of ticks, i.e. after set_ticks() or using a FixedLocator.\n",
                        "\n",
                        "/Users/saniyabekova/miniconda3/lib/python3.12/site-packages/bar_chart_race/_make_chart.py:287: UserWarning:\n",
                        "\n",
                        "set_ticklabels() should only be used with a fixed number of ticks, i.e. after set_ticks() or using a FixedLocator.\n",
                        "\n"
                    ]
                },
                {
                    "data": {
                        "text/html": [
                            "\n",
                            "<link rel=\"stylesheet\"\n",
                            "href=\"https://maxcdn.bootstrapcdn.com/font-awesome/4.4.0/css/font-awesome.min.css\">\n",
                            "<script language=\"javascript\">\n",
                            "  function isInternetExplorer() {\n",
                            "    ua = navigator.userAgent;\n",
                            "    /* MSIE used to detect old browsers and Trident used to newer ones*/\n",
                            "    return ua.indexOf(\"MSIE \") > -1 || ua.indexOf(\"Trident/\") > -1;\n",
                            "  }\n",
                            "\n",
                            "  /* Define the Animation class */\n",
                            "  function Animation(frames, img_id, slider_id, interval, loop_select_id){\n",
                            "    this.img_id = img_id;\n",
                            "    this.slider_id = slider_id;\n",
                            "    this.loop_select_id = loop_select_id;\n",
                            "    this.interval = interval;\n",
                            "    this.current_frame = 0;\n",
                            "    this.direction = 0;\n",
                            "    this.timer = null;\n",
                            "    this.frames = new Array(frames.length);\n",
                            "\n",
                            "    for (var i=0; i<frames.length; i++)\n",
                            "    {\n",
                            "     this.frames[i] = new Image();\n",
                            "     this.frames[i].src = frames[i];\n",
                            "    }\n",
                            "    var slider = document.getElementById(this.slider_id);\n",
                            "    slider.max = this.frames.length - 1;\n",
                            "    if (isInternetExplorer()) {\n",
                            "        // switch from oninput to onchange because IE <= 11 does not conform\n",
                            "        // with W3C specification. It ignores oninput and onchange behaves\n",
                            "        // like oninput. In contrast, Microsoft Edge behaves correctly.\n",
                            "        slider.setAttribute('onchange', slider.getAttribute('oninput'));\n",
                            "        slider.setAttribute('oninput', null);\n",
                            "    }\n",
                            "    this.set_frame(this.current_frame);\n",
                            "  }\n",
                            "\n",
                            "  Animation.prototype.get_loop_state = function(){\n",
                            "    var button_group = document[this.loop_select_id].state;\n",
                            "    for (var i = 0; i < button_group.length; i++) {\n",
                            "        var button = button_group[i];\n",
                            "        if (button.checked) {\n",
                            "            return button.value;\n",
                            "        }\n",
                            "    }\n",
                            "    return undefined;\n",
                            "  }\n",
                            "\n",
                            "  Animation.prototype.set_frame = function(frame){\n",
                            "    this.current_frame = frame;\n",
                            "    document.getElementById(this.img_id).src =\n",
                            "            this.frames[this.current_frame].src;\n",
                            "    document.getElementById(this.slider_id).value = this.current_frame;\n",
                            "  }\n",
                            "\n",
                            "  Animation.prototype.next_frame = function()\n",
                            "  {\n",
                            "    this.set_frame(Math.min(this.frames.length - 1, this.current_frame + 1));\n",
                            "  }\n",
                            "\n",
                            "  Animation.prototype.previous_frame = function()\n",
                            "  {\n",
                            "    this.set_frame(Math.max(0, this.current_frame - 1));\n",
                            "  }\n",
                            "\n",
                            "  Animation.prototype.first_frame = function()\n",
                            "  {\n",
                            "    this.set_frame(0);\n",
                            "  }\n",
                            "\n",
                            "  Animation.prototype.last_frame = function()\n",
                            "  {\n",
                            "    this.set_frame(this.frames.length - 1);\n",
                            "  }\n",
                            "\n",
                            "  Animation.prototype.slower = function()\n",
                            "  {\n",
                            "    this.interval /= 0.7;\n",
                            "    if(this.direction > 0){this.play_animation();}\n",
                            "    else if(this.direction < 0){this.reverse_animation();}\n",
                            "  }\n",
                            "\n",
                            "  Animation.prototype.faster = function()\n",
                            "  {\n",
                            "    this.interval *= 0.7;\n",
                            "    if(this.direction > 0){this.play_animation();}\n",
                            "    else if(this.direction < 0){this.reverse_animation();}\n",
                            "  }\n",
                            "\n",
                            "  Animation.prototype.anim_step_forward = function()\n",
                            "  {\n",
                            "    this.current_frame += 1;\n",
                            "    if(this.current_frame < this.frames.length){\n",
                            "      this.set_frame(this.current_frame);\n",
                            "    }else{\n",
                            "      var loop_state = this.get_loop_state();\n",
                            "      if(loop_state == \"loop\"){\n",
                            "        this.first_frame();\n",
                            "      }else if(loop_state == \"reflect\"){\n",
                            "        this.last_frame();\n",
                            "        this.reverse_animation();\n",
                            "      }else{\n",
                            "        this.pause_animation();\n",
                            "        this.last_frame();\n",
                            "      }\n",
                            "    }\n",
                            "  }\n",
                            "\n",
                            "  Animation.prototype.anim_step_reverse = function()\n",
                            "  {\n",
                            "    this.current_frame -= 1;\n",
                            "    if(this.current_frame >= 0){\n",
                            "      this.set_frame(this.current_frame);\n",
                            "    }else{\n",
                            "      var loop_state = this.get_loop_state();\n",
                            "      if(loop_state == \"loop\"){\n",
                            "        this.last_frame();\n",
                            "      }else if(loop_state == \"reflect\"){\n",
                            "        this.first_frame();\n",
                            "        this.play_animation();\n",
                            "      }else{\n",
                            "        this.pause_animation();\n",
                            "        this.first_frame();\n",
                            "      }\n",
                            "    }\n",
                            "  }\n",
                            "\n",
                            "  Animation.prototype.pause_animation = function()\n",
                            "  {\n",
                            "    this.direction = 0;\n",
                            "    if (this.timer){\n",
                            "      clearInterval(this.timer);\n",
                            "      this.timer = null;\n",
                            "    }\n",
                            "  }\n",
                            "\n",
                            "  Animation.prototype.play_animation = function()\n",
                            "  {\n",
                            "    this.pause_animation();\n",
                            "    this.direction = 1;\n",
                            "    var t = this;\n",
                            "    if (!this.timer) this.timer = setInterval(function() {\n",
                            "        t.anim_step_forward();\n",
                            "    }, this.interval);\n",
                            "  }\n",
                            "\n",
                            "  Animation.prototype.reverse_animation = function()\n",
                            "  {\n",
                            "    this.pause_animation();\n",
                            "    this.direction = -1;\n",
                            "    var t = this;\n",
                            "    if (!this.timer) this.timer = setInterval(function() {\n",
                            "        t.anim_step_reverse();\n",
                            "    }, this.interval);\n",
                            "  }\n",
                            "</script>\n",
                            "\n",
                            "<style>\n",
                            ".animation {\n",
                            "    display: inline-block;\n",
                            "    text-align: center;\n",
                            "}\n",
                            "input[type=range].anim-slider {\n",
                            "    width: 374px;\n",
                            "    margin-left: auto;\n",
                            "    margin-right: auto;\n",
                            "}\n",
                            ".anim-buttons {\n",
                            "    margin: 8px 0px;\n",
                            "}\n",
                            ".anim-buttons button {\n",
                            "    padding: 0;\n",
                            "    width: 36px;\n",
                            "}\n",
                            ".anim-state label {\n",
                            "    margin-right: 8px;\n",
                            "}\n",
                            ".anim-state input {\n",
                            "    margin: 0;\n",
                            "    vertical-align: middle;\n",
                            "}\n",
                            "</style>\n",
                            "\n",
                            "<div class=\"animation\">\n",
                            "  <img id=\"_anim_imgaa444cb07acf4e4f9919109341b22546\">\n",
                            "  <div class=\"anim-controls\">\n",
                            "    <input id=\"_anim_slideraa444cb07acf4e4f9919109341b22546\" type=\"range\" class=\"anim-slider\"\n",
                            "           name=\"points\" min=\"0\" max=\"1\" step=\"1\" value=\"0\"\n",
                            "           oninput=\"animaa444cb07acf4e4f9919109341b22546.set_frame(parseInt(this.value));\">\n",
                            "    <div class=\"anim-buttons\">\n",
                            "      <button title=\"Decrease speed\" aria-label=\"Decrease speed\" onclick=\"animaa444cb07acf4e4f9919109341b22546.slower()\">\n",
                            "          <i class=\"fa fa-minus\"></i></button>\n",
                            "      <button title=\"First frame\" aria-label=\"First frame\" onclick=\"animaa444cb07acf4e4f9919109341b22546.first_frame()\">\n",
                            "        <i class=\"fa fa-fast-backward\"></i></button>\n",
                            "      <button title=\"Previous frame\" aria-label=\"Previous frame\" onclick=\"animaa444cb07acf4e4f9919109341b22546.previous_frame()\">\n",
                            "          <i class=\"fa fa-step-backward\"></i></button>\n",
                            "      <button title=\"Play backwards\" aria-label=\"Play backwards\" onclick=\"animaa444cb07acf4e4f9919109341b22546.reverse_animation()\">\n",
                            "          <i class=\"fa fa-play fa-flip-horizontal\"></i></button>\n",
                            "      <button title=\"Pause\" aria-label=\"Pause\" onclick=\"animaa444cb07acf4e4f9919109341b22546.pause_animation()\">\n",
                            "          <i class=\"fa fa-pause\"></i></button>\n",
                            "      <button title=\"Play\" aria-label=\"Play\" onclick=\"animaa444cb07acf4e4f9919109341b22546.play_animation()\">\n",
                            "          <i class=\"fa fa-play\"></i></button>\n",
                            "      <button title=\"Next frame\" aria-label=\"Next frame\" onclick=\"animaa444cb07acf4e4f9919109341b22546.next_frame()\">\n",
                            "          <i class=\"fa fa-step-forward\"></i></button>\n",
                            "      <button title=\"Last frame\" aria-label=\"Last frame\" onclick=\"animaa444cb07acf4e4f9919109341b22546.last_frame()\">\n",
                            "          <i class=\"fa fa-fast-forward\"></i></button>\n",
                            "      <button title=\"Increase speed\" aria-label=\"Increase speed\" onclick=\"animaa444cb07acf4e4f9919109341b22546.faster()\">\n",
                            "          <i class=\"fa fa-plus\"></i></button>\n",
                            "    </div>\n",
                            "    <form title=\"Repetition mode\" aria-label=\"Repetition mode\" action=\"#n\" name=\"_anim_loop_selectaa444cb07acf4e4f9919109341b22546\"\n",
                            "          class=\"anim-state\">\n",
                            "      <input type=\"radio\" name=\"state\" value=\"once\" id=\"_anim_radio1_aa444cb07acf4e4f9919109341b22546\"\n",
                            "             >\n",
                            "      <label for=\"_anim_radio1_aa444cb07acf4e4f9919109341b22546\">Once</label>\n",
                            "      <input type=\"radio\" name=\"state\" value=\"loop\" id=\"_anim_radio2_aa444cb07acf4e4f9919109341b22546\"\n",
                            "             checked>\n",
                            "      <label for=\"_anim_radio2_aa444cb07acf4e4f9919109341b22546\">Loop</label>\n",
                            "      <input type=\"radio\" name=\"state\" value=\"reflect\" id=\"_anim_radio3_aa444cb07acf4e4f9919109341b22546\"\n",
                            "             >\n",
                            "      <label for=\"_anim_radio3_aa444cb07acf4e4f9919109341b22546\">Reflect</label>\n",
                            "    </form>\n",
                            "  </div>\n",
                            "</div>\n",
                            "\n",
                            "\n",
                            "<script language=\"javascript\">\n",
                            "  /* Instantiate the Animation class. */\n",
                            "  /* The IDs given should match those used in the template above. */\n",
                            "  (function() {\n",
                            "    var img_id = \"_anim_imgaa444cb07acf4e4f9919109341b22546\";\n",
                            "    var slider_id = \"_anim_slideraa444cb07acf4e4f9919109341b22546\";\n",
                            "    var loop_select_id = \"_anim_loop_selectaa444cb07acf4e4f9919109341b22546\";\n",
                            "    var frames = new Array(1201);\n",
                            "    \n",
                            "  for (var i=0; i<1201; i++){\n",
                            "    frames[i] = \"nobel_bar_race_frames/frame\" + (\"0000000\" + i).slice(-7) +\n",
                            "                \".png\";\n",
                            "  }\n",
                            "\n",
                            "\n",
                            "    /* set a timeout to make sure all the above elements are created before\n",
                            "       the object is initialized. */\n",
                            "    setTimeout(function() {\n",
                            "        animaa444cb07acf4e4f9919109341b22546 = new Animation(frames, img_id, slider_id, 50.0,\n",
                            "                                 loop_select_id);\n",
                            "    }, 0);\n",
                            "  })()\n",
                            "</script>\n"
                        ],
                        "text/plain": [
                            "<IPython.core.display.HTML object>"
                        ]
                    },
                    "execution_count": 14,
                    "metadata": {},
                    "output_type": "execute_result"
                }
            ],
            "source": [
                "\n",
                "country_year_trends = nobel_df.groupby(['awardYear', 'birth_place_country']).size().reset_index(name='Count')\n",
                "country_year_trends.columns = ['Year', 'Country', 'Count']\n",
                "\n",
                "\n",
                "data_pivot = country_year_trends.pivot(index='Year', columns='Country', values='Count').fillna(0)\n",
                "data_cumulative = data_pivot.cumsum()\n",
                "\n",
                "\n",
                "top_countries = data_cumulative.iloc[-1].nlargest(20).index\n",
                "data_filtered = data_cumulative[top_countries]\n",
                "\n",
                "\n",
                "bcr.bar_chart_race(\n",
                "    df=data_filtered,\n",
                "    filename='nobel_bar_race.html',\n",
                "    orientation='h',\n",
                "    sort='desc',\n",
                "    n_bars=10,\n",
                "    fixed_order=False,\n",
                "    fixed_max=True,\n",
                "    steps_per_period=10,\n",
                "    period_length=500,\n",
                "    title='Top Countries with Most Nobel Laureates Over Time',\n",
                "    bar_size=0.95,\n",
                "    period_label={'x': 0.99, 'y': 0.15, 'ha': 'right', 'va': 'center'},\n",
                "    cmap='viridis'\n",
                ")\n",
                "\n",
                "HTML('nobel_bar_race.html')\n"
            ]
        },
        {
            "cell_type": "markdown",
            "metadata": {},
            "source": [
                "Before 1945, European countries dominated the total count of laureates.\n",
                "\n",
                "In 1945, the USA surpassed all other countries and took the lead.\n",
                "\n",
                "Japan entered the list of top countries in 2009 and has remained there to this day.\n",
                "\n",
                "The number of female laureates increased slightly after 1980."
            ]
        },
        {
            "cell_type": "markdown",
            "metadata": {},
            "source": [
                "# Data Analysis\n",
                "\n",
                "We will attempt to predict whether a country has a laureate based on its GDP per capita (current US$), Government expenditure on education, total (% of GDP), Research and development expenditure (% of GDP) and total population.\n"
            ]
        },
        {
            "cell_type": "code",
            "execution_count": 15,
            "metadata": {},
            "outputs": [
                {
                    "name": "stdout",
                    "output_type": "stream",
                    "text": [
                        "ROC AUC Score train: 0.8254072608734386\n",
                        "\n",
                        "Classification Report train:\n",
                        "               precision    recall  f1-score   support\n",
                        "\n",
                        "           0       0.98      0.86      0.92      7829\n",
                        "           1       0.10      0.52      0.17       238\n",
                        "\n",
                        "    accuracy                           0.85      8067\n",
                        "   macro avg       0.54      0.69      0.55      8067\n",
                        "weighted avg       0.96      0.85      0.90      8067\n",
                        "\n",
                        "ROC AUC Score test: 0.8299037457306573\n",
                        "\n",
                        "Classification Report test:\n",
                        "               precision    recall  f1-score   support\n",
                        "\n",
                        "           0       0.99      0.87      0.92      3374\n",
                        "           1       0.08      0.50      0.15        84\n",
                        "\n",
                        "    accuracy                           0.86      3458\n",
                        "   macro avg       0.54      0.68      0.53      3458\n",
                        "weighted avg       0.96      0.86      0.90      3458\n",
                        "\n",
                        "\n",
                        "Feature Importance:\n",
                        "                              Feature  Importance\n",
                        "0                                GDP    0.282222\n",
                        "1                         Population    0.686496\n",
                        "2                  ExpenditureOnEduc    0.322294\n",
                        "3  ResearchAndDevelopmentExpenditure    0.375806\n"
                    ]
                }
            ],
            "source": [
                "\n",
                "merged_data = pd.read_csv(\"nobel_prize_gdp_pop_exp.csv\")\n",
                "merged_data.head()\n",
                "\n",
                "\n",
                "merged_data['GDP'] = pd.to_numeric(merged_data['GDP per capita (current US$)'], errors='coerce')\n",
                "merged_data['ExpenditureOnEduc'] = pd.to_numeric(merged_data['Government expenditure on education, total (% of GDP)'], errors='coerce')\n",
                "merged_data['ResearchAndDevelopmentExpenditure'] = pd.to_numeric(merged_data['Research and development expenditure (% of GDP)'], errors='coerce')\n",
                "merged_data['Population'] = pd.to_numeric(merged_data['Population, total'], errors='coerce')\n",
                "\n",
                "\n",
                "merged_data['GDP'] = merged_data['GDP'].fillna(merged_data['GDP'].median())\n",
                "merged_data['Population'] = merged_data['Population'].fillna(merged_data['Population'].median())\n",
                "merged_data['ExpenditureOnEduc'] = merged_data['ExpenditureOnEduc'].fillna(merged_data['ExpenditureOnEduc'].median())\n",
                "merged_data['ResearchAndDevelopmentExpenditure'] = merged_data['ResearchAndDevelopmentExpenditure'].fillna(merged_data['ResearchAndDevelopmentExpenditure'].median())\n",
                "\n",
                "\n",
                "merged_data['Has_Laureate'] = np.where(merged_data['winner_id'].isnull(), 0, 1)\n",
                "\n",
                "\n",
                "scaler = StandardScaler()\n",
                "merged_data[['GDP', 'Population', 'ExpenditureOnEduc', 'ResearchAndDevelopmentExpenditure']] = scaler.fit_transform(merged_data[['GDP', 'Population', 'ExpenditureOnEduc', 'ResearchAndDevelopmentExpenditure']])\n",
                "\n",
                "\n",
                "X = merged_data[['GDP', 'Population', 'ExpenditureOnEduc', 'ResearchAndDevelopmentExpenditure']]\n",
                "y = merged_data['Has_Laureate']\n",
                "\n",
                "\n",
                "X_train, X_test, y_train, y_test = train_test_split(X, y, test_size=0.3, random_state=42)\n",
                "\n",
                "\n",
                "model = LogisticRegression(class_weight='balanced')\n",
                "model.fit(X_train, y_train)\n",
                "\n",
                "\n",
                "\n",
                "y_pred_train = model.predict(X_train)\n",
                "y_pred_proba_train = model.predict_proba(X_train)[:, 1]\n",
                "\n",
                "\n",
                "roc_auc_train = roc_auc_score(y_train, y_pred_proba_train)\n",
                "print(\"ROC AUC Score train:\", roc_auc_train)\n",
                "print(\"\\nClassification Report train:\\n\", classification_report(y_train, y_pred_train))\n",
                "\n",
                "\n",
                "y_pred = model.predict(X_test)\n",
                "y_pred_proba = model.predict_proba(X_test)[:, 1]\n",
                "\n",
                "\n",
                "roc_auc = roc_auc_score(y_test, y_pred_proba)\n",
                "print(\"ROC AUC Score test:\", roc_auc)\n",
                "print(\"\\nClassification Report test:\\n\", classification_report(y_test, y_pred))\n",
                "\n",
                "\n",
                "feature_importance = pd.DataFrame({'Feature': X.columns, 'Importance': model.coef_[0]})\n",
                "print(\"\\nFeature Importance:\\n\", feature_importance)\n"
            ]
        },
        {
            "cell_type": "markdown",
            "metadata": {},
            "source": [
                "The model performs well at predicting countries without laureates but struggles to identify countries with laureates due to class imbalance. It has an ROC AUC score of 0.83 for testing and training, but it fails to effectively predict laureates, with low precision (0.10 train, 0.08 test) and modest recall (0.52 train, 0.50 test)"
            ]
        },
        {
            "cell_type": "markdown",
            "metadata": {},
            "source": [
                "# Conclusion\n",
                "In this project, we analyzed Nobel Prize data to understand trends in laureates by country, gender, and category while predicting laureates based on GDP and population. The USA emerged as the dominant country in terms of laureates, surpassing Europe after 1945, possibly due to the impacts of World War II on the Eurasian continent, which disrupted research and development in Europe. Gender analysis showed that females are underrepresented but excel in categories like Literature, Peace, and Medicine, whereas males dominate Chemistry and Physics. Most laureates receive their awards between their late 40s and early 60s. Additionally, the pattern of winners has not diversified significantly over time, with most laureates still coming from a few dominant countries and regions. Similarly, the trend of males winning more than females has also not changed significantly over the years. A logistic regression model was used to predict whether a country has laureates based on GDP and population. While the model achieved moderate performance (ROC AUC: 0.83), it struggled to identify countries with laureates due to class imbalance. "
            ]
        }
    ],
    "metadata": {
        "author": "Saniya Bekova",
        "date": "12/14/2024",
        "kernelspec": {
            "display_name": "Python 3",
            "language": "python",
            "name": "python3"
        },
        "language_info": {
            "codemirror_mode": {
                "name": "ipython",
                "version": 3
            },
            "file_extension": ".py",
            "mimetype": "text/x-python",
            "name": "python",
            "nbconvert_exporter": "python",
            "pygments_lexer": "ipython3",
            "version": "3.12.2"
        },
        "title": "Analyzing Nobel Prize Patterns"
    },
    "nbformat": 4,
    "nbformat_minor": 2
}
